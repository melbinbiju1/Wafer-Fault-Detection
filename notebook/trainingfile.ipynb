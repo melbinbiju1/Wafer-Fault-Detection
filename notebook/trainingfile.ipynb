{
 "cells": [
  {
   "cell_type": "code",
   "execution_count": 1,
   "id": "bcccdc33",
   "metadata": {},
   "outputs": [],
   "source": [
    "class Demo:\n",
    "    def __init__(self):\n",
    "        pass\n",
    "    \n",
    "    def fun1(self):\n",
    "        a=3\n",
    "        return a"
   ]
  },
  {
   "cell_type": "code",
   "execution_count": 2,
   "id": "5951ebdc",
   "metadata": {},
   "outputs": [],
   "source": [
    "obj = Demo()"
   ]
  },
  {
   "cell_type": "code",
   "execution_count": 3,
   "id": "e3636195",
   "metadata": {},
   "outputs": [
    {
     "data": {
      "text/plain": [
       "3"
      ]
     },
     "execution_count": 3,
     "metadata": {},
     "output_type": "execute_result"
    }
   ],
   "source": [
    "obj.fun1()"
   ]
  },
  {
   "cell_type": "code",
   "execution_count": 6,
   "id": "a7688fa0",
   "metadata": {},
   "outputs": [],
   "source": [
    "class Demo:\n",
    "    def __init__(self):\n",
    "        pass\n",
    "    \n",
    "    def fun1(self):\n",
    "        self.a=3\n",
    "        return self.a"
   ]
  },
  {
   "cell_type": "code",
   "execution_count": 7,
   "id": "00f0d853",
   "metadata": {},
   "outputs": [
    {
     "data": {
      "text/plain": [
       "3"
      ]
     },
     "execution_count": 7,
     "metadata": {},
     "output_type": "execute_result"
    }
   ],
   "source": [
    "obj.fun1()"
   ]
  },
  {
   "cell_type": "code",
   "execution_count": null,
   "id": "bee52234",
   "metadata": {},
   "outputs": [],
   "source": []
  },
  {
   "cell_type": "code",
   "execution_count": null,
   "id": "c5ea1fa7",
   "metadata": {},
   "outputs": [],
   "source": []
  },
  {
   "cell_type": "code",
   "execution_count": null,
   "id": "d981198d",
   "metadata": {},
   "outputs": [],
   "source": []
  },
  {
   "cell_type": "code",
   "execution_count": 9,
   "id": "4dbecdec",
   "metadata": {},
   "outputs": [],
   "source": [
    "import pandas as pd"
   ]
  },
  {
   "cell_type": "code",
   "execution_count": 8,
   "id": "20c98d2e",
   "metadata": {},
   "outputs": [],
   "source": [
    "path = r\"C:\\Users\\user\\Desktop\\real_ml_projects\\Wafar_fault_detection\\waferFaultDetection\\code\\WaferFaultDetection_new\\Training_Batch_Files\\Wafer_11012020_151432.csv\""
   ]
  },
  {
   "cell_type": "code",
   "execution_count": 11,
   "id": "d5415e56",
   "metadata": {},
   "outputs": [],
   "source": [
    "df=pd.read_csv(path)"
   ]
  },
  {
   "cell_type": "code",
   "execution_count": 12,
   "id": "174ebea7",
   "metadata": {},
   "outputs": [
    {
     "data": {
      "text/html": [
       "<div>\n",
       "<style scoped>\n",
       "    .dataframe tbody tr th:only-of-type {\n",
       "        vertical-align: middle;\n",
       "    }\n",
       "\n",
       "    .dataframe tbody tr th {\n",
       "        vertical-align: top;\n",
       "    }\n",
       "\n",
       "    .dataframe thead th {\n",
       "        text-align: right;\n",
       "    }\n",
       "</style>\n",
       "<table border=\"1\" class=\"dataframe\">\n",
       "  <thead>\n",
       "    <tr style=\"text-align: right;\">\n",
       "      <th></th>\n",
       "      <th>Unnamed: 0</th>\n",
       "      <th>Sensor-1</th>\n",
       "      <th>Sensor-2</th>\n",
       "      <th>Sensor-3</th>\n",
       "      <th>Sensor-4</th>\n",
       "      <th>Sensor-5</th>\n",
       "      <th>Sensor-6</th>\n",
       "      <th>Sensor-7</th>\n",
       "      <th>Sensor-8</th>\n",
       "      <th>Sensor-9</th>\n",
       "      <th>...</th>\n",
       "      <th>Sensor-581</th>\n",
       "      <th>Sensor-582</th>\n",
       "      <th>Sensor-583</th>\n",
       "      <th>Sensor-584</th>\n",
       "      <th>Sensor-585</th>\n",
       "      <th>Sensor-586</th>\n",
       "      <th>Sensor-587</th>\n",
       "      <th>Sensor-588</th>\n",
       "      <th>Sensor-589</th>\n",
       "      <th>Sensor-590</th>\n",
       "    </tr>\n",
       "  </thead>\n",
       "  <tbody>\n",
       "    <tr>\n",
       "      <th>0</th>\n",
       "      <td>Wafer-100</td>\n",
       "      <td>3056.50</td>\n",
       "      <td>2481.09</td>\n",
       "      <td>2220.4444</td>\n",
       "      <td>1637.2946</td>\n",
       "      <td>1.3680</td>\n",
       "      <td>100</td>\n",
       "      <td>100.5189</td>\n",
       "      <td>0.1231</td>\n",
       "      <td>1.4402</td>\n",
       "      <td>...</td>\n",
       "      <td>0.0037</td>\n",
       "      <td>35.2148</td>\n",
       "      <td>0.5009</td>\n",
       "      <td>0.0153</td>\n",
       "      <td>0.0035</td>\n",
       "      <td>3.0545</td>\n",
       "      <td>0.0338</td>\n",
       "      <td>0.0119</td>\n",
       "      <td>0.0037</td>\n",
       "      <td>35.2148</td>\n",
       "    </tr>\n",
       "    <tr>\n",
       "      <th>1</th>\n",
       "      <td>Wafer-101</td>\n",
       "      <td>3017.50</td>\n",
       "      <td>2634.30</td>\n",
       "      <td>2183.4556</td>\n",
       "      <td>955.9073</td>\n",
       "      <td>1.1048</td>\n",
       "      <td>100</td>\n",
       "      <td>102.6978</td>\n",
       "      <td>0.1223</td>\n",
       "      <td>1.4700</td>\n",
       "      <td>...</td>\n",
       "      <td>0.0050</td>\n",
       "      <td>71.5753</td>\n",
       "      <td>0.5059</td>\n",
       "      <td>0.0082</td>\n",
       "      <td>0.0025</td>\n",
       "      <td>1.6240</td>\n",
       "      <td>0.0208</td>\n",
       "      <td>0.0149</td>\n",
       "      <td>0.0050</td>\n",
       "      <td>71.5753</td>\n",
       "    </tr>\n",
       "    <tr>\n",
       "      <th>2</th>\n",
       "      <td>Wafer-102</td>\n",
       "      <td>3003.13</td>\n",
       "      <td>2714.30</td>\n",
       "      <td>2171.9000</td>\n",
       "      <td>1811.8799</td>\n",
       "      <td>1.3811</td>\n",
       "      <td>100</td>\n",
       "      <td>99.2200</td>\n",
       "      <td>0.1276</td>\n",
       "      <td>1.4240</td>\n",
       "      <td>...</td>\n",
       "      <td>0.0060</td>\n",
       "      <td>289.9234</td>\n",
       "      <td>0.4990</td>\n",
       "      <td>0.0119</td>\n",
       "      <td>0.0027</td>\n",
       "      <td>2.3794</td>\n",
       "      <td>0.0058</td>\n",
       "      <td>0.0169</td>\n",
       "      <td>0.0060</td>\n",
       "      <td>289.9234</td>\n",
       "    </tr>\n",
       "    <tr>\n",
       "      <th>3</th>\n",
       "      <td>Wafer-103</td>\n",
       "      <td>2924.23</td>\n",
       "      <td>2531.34</td>\n",
       "      <td>2196.6555</td>\n",
       "      <td>1066.1908</td>\n",
       "      <td>1.2188</td>\n",
       "      <td>100</td>\n",
       "      <td>101.8900</td>\n",
       "      <td>0.1211</td>\n",
       "      <td>1.3872</td>\n",
       "      <td>...</td>\n",
       "      <td>NaN</td>\n",
       "      <td>NaN</td>\n",
       "      <td>0.5001</td>\n",
       "      <td>0.0115</td>\n",
       "      <td>0.0027</td>\n",
       "      <td>2.2920</td>\n",
       "      <td>0.0058</td>\n",
       "      <td>0.0169</td>\n",
       "      <td>0.0060</td>\n",
       "      <td>289.9234</td>\n",
       "    </tr>\n",
       "    <tr>\n",
       "      <th>4</th>\n",
       "      <td>Wafer-104</td>\n",
       "      <td>3023.86</td>\n",
       "      <td>2432.85</td>\n",
       "      <td>2172.3666</td>\n",
       "      <td>1752.3206</td>\n",
       "      <td>1.3622</td>\n",
       "      <td>100</td>\n",
       "      <td>97.2633</td>\n",
       "      <td>0.1269</td>\n",
       "      <td>1.4712</td>\n",
       "      <td>...</td>\n",
       "      <td>NaN</td>\n",
       "      <td>NaN</td>\n",
       "      <td>0.5009</td>\n",
       "      <td>0.0100</td>\n",
       "      <td>0.0029</td>\n",
       "      <td>1.9890</td>\n",
       "      <td>0.0058</td>\n",
       "      <td>0.0169</td>\n",
       "      <td>0.0060</td>\n",
       "      <td>289.9234</td>\n",
       "    </tr>\n",
       "    <tr>\n",
       "      <th>...</th>\n",
       "      <td>...</td>\n",
       "      <td>...</td>\n",
       "      <td>...</td>\n",
       "      <td>...</td>\n",
       "      <td>...</td>\n",
       "      <td>...</td>\n",
       "      <td>...</td>\n",
       "      <td>...</td>\n",
       "      <td>...</td>\n",
       "      <td>...</td>\n",
       "      <td>...</td>\n",
       "      <td>...</td>\n",
       "      <td>...</td>\n",
       "      <td>...</td>\n",
       "      <td>...</td>\n",
       "      <td>...</td>\n",
       "      <td>...</td>\n",
       "      <td>...</td>\n",
       "      <td>...</td>\n",
       "      <td>...</td>\n",
       "      <td>...</td>\n",
       "    </tr>\n",
       "    <tr>\n",
       "      <th>95</th>\n",
       "      <td>Wafer-195</td>\n",
       "      <td>3076.52</td>\n",
       "      <td>2502.62</td>\n",
       "      <td>2197.6444</td>\n",
       "      <td>1247.0334</td>\n",
       "      <td>0.7865</td>\n",
       "      <td>100</td>\n",
       "      <td>99.9211</td>\n",
       "      <td>0.1203</td>\n",
       "      <td>1.5059</td>\n",
       "      <td>...</td>\n",
       "      <td>0.0048</td>\n",
       "      <td>51.8065</td>\n",
       "      <td>0.5025</td>\n",
       "      <td>0.0144</td>\n",
       "      <td>0.0038</td>\n",
       "      <td>2.8593</td>\n",
       "      <td>0.0287</td>\n",
       "      <td>0.0149</td>\n",
       "      <td>0.0048</td>\n",
       "      <td>51.8065</td>\n",
       "    </tr>\n",
       "    <tr>\n",
       "      <th>96</th>\n",
       "      <td>Wafer-196</td>\n",
       "      <td>2999.86</td>\n",
       "      <td>2287.90</td>\n",
       "      <td>2197.6444</td>\n",
       "      <td>1247.0334</td>\n",
       "      <td>0.7865</td>\n",
       "      <td>100</td>\n",
       "      <td>99.9211</td>\n",
       "      <td>0.1203</td>\n",
       "      <td>1.4785</td>\n",
       "      <td>...</td>\n",
       "      <td>0.0029</td>\n",
       "      <td>31.4679</td>\n",
       "      <td>0.5047</td>\n",
       "      <td>0.0124</td>\n",
       "      <td>0.0038</td>\n",
       "      <td>2.4550</td>\n",
       "      <td>0.0265</td>\n",
       "      <td>0.0083</td>\n",
       "      <td>0.0029</td>\n",
       "      <td>31.4679</td>\n",
       "    </tr>\n",
       "    <tr>\n",
       "      <th>97</th>\n",
       "      <td>Wafer-197</td>\n",
       "      <td>2992.52</td>\n",
       "      <td>2470.14</td>\n",
       "      <td>2197.6444</td>\n",
       "      <td>1247.0334</td>\n",
       "      <td>0.7865</td>\n",
       "      <td>100</td>\n",
       "      <td>99.9211</td>\n",
       "      <td>0.1203</td>\n",
       "      <td>1.4703</td>\n",
       "      <td>...</td>\n",
       "      <td>0.0035</td>\n",
       "      <td>59.3840</td>\n",
       "      <td>0.5047</td>\n",
       "      <td>0.0093</td>\n",
       "      <td>0.0033</td>\n",
       "      <td>1.8502</td>\n",
       "      <td>0.0214</td>\n",
       "      <td>0.0127</td>\n",
       "      <td>0.0035</td>\n",
       "      <td>59.3840</td>\n",
       "    </tr>\n",
       "    <tr>\n",
       "      <th>98</th>\n",
       "      <td>Wafer-198</td>\n",
       "      <td>3109.02</td>\n",
       "      <td>2472.13</td>\n",
       "      <td>2197.6444</td>\n",
       "      <td>1247.0334</td>\n",
       "      <td>0.7865</td>\n",
       "      <td>100</td>\n",
       "      <td>99.9211</td>\n",
       "      <td>0.1203</td>\n",
       "      <td>1.4406</td>\n",
       "      <td>...</td>\n",
       "      <td>0.0041</td>\n",
       "      <td>44.1766</td>\n",
       "      <td>0.4999</td>\n",
       "      <td>0.0102</td>\n",
       "      <td>0.0029</td>\n",
       "      <td>2.0404</td>\n",
       "      <td>0.0327</td>\n",
       "      <td>0.0144</td>\n",
       "      <td>0.0041</td>\n",
       "      <td>44.1766</td>\n",
       "    </tr>\n",
       "    <tr>\n",
       "      <th>99</th>\n",
       "      <td>Wafer-199</td>\n",
       "      <td>2954.10</td>\n",
       "      <td>2489.91</td>\n",
       "      <td>2179.0445</td>\n",
       "      <td>2028.2208</td>\n",
       "      <td>1.5552</td>\n",
       "      <td>100</td>\n",
       "      <td>95.4256</td>\n",
       "      <td>0.1234</td>\n",
       "      <td>1.4685</td>\n",
       "      <td>...</td>\n",
       "      <td>0.0052</td>\n",
       "      <td>98.1126</td>\n",
       "      <td>0.5035</td>\n",
       "      <td>0.0130</td>\n",
       "      <td>0.0034</td>\n",
       "      <td>2.5797</td>\n",
       "      <td>0.0131</td>\n",
       "      <td>0.0129</td>\n",
       "      <td>0.0052</td>\n",
       "      <td>98.1126</td>\n",
       "    </tr>\n",
       "  </tbody>\n",
       "</table>\n",
       "<p>100 rows × 591 columns</p>\n",
       "</div>"
      ],
      "text/plain": [
       "   Unnamed: 0  Sensor-1  Sensor-2   Sensor-3   Sensor-4  Sensor-5  Sensor-6  \\\n",
       "0   Wafer-100   3056.50   2481.09  2220.4444  1637.2946    1.3680       100   \n",
       "1   Wafer-101   3017.50   2634.30  2183.4556   955.9073    1.1048       100   \n",
       "2   Wafer-102   3003.13   2714.30  2171.9000  1811.8799    1.3811       100   \n",
       "3   Wafer-103   2924.23   2531.34  2196.6555  1066.1908    1.2188       100   \n",
       "4   Wafer-104   3023.86   2432.85  2172.3666  1752.3206    1.3622       100   \n",
       "..        ...       ...       ...        ...        ...       ...       ...   \n",
       "95  Wafer-195   3076.52   2502.62  2197.6444  1247.0334    0.7865       100   \n",
       "96  Wafer-196   2999.86   2287.90  2197.6444  1247.0334    0.7865       100   \n",
       "97  Wafer-197   2992.52   2470.14  2197.6444  1247.0334    0.7865       100   \n",
       "98  Wafer-198   3109.02   2472.13  2197.6444  1247.0334    0.7865       100   \n",
       "99  Wafer-199   2954.10   2489.91  2179.0445  2028.2208    1.5552       100   \n",
       "\n",
       "    Sensor-7  Sensor-8  Sensor-9  ...  Sensor-581  Sensor-582  Sensor-583  \\\n",
       "0   100.5189    0.1231    1.4402  ...      0.0037     35.2148      0.5009   \n",
       "1   102.6978    0.1223    1.4700  ...      0.0050     71.5753      0.5059   \n",
       "2    99.2200    0.1276    1.4240  ...      0.0060    289.9234      0.4990   \n",
       "3   101.8900    0.1211    1.3872  ...         NaN         NaN      0.5001   \n",
       "4    97.2633    0.1269    1.4712  ...         NaN         NaN      0.5009   \n",
       "..       ...       ...       ...  ...         ...         ...         ...   \n",
       "95   99.9211    0.1203    1.5059  ...      0.0048     51.8065      0.5025   \n",
       "96   99.9211    0.1203    1.4785  ...      0.0029     31.4679      0.5047   \n",
       "97   99.9211    0.1203    1.4703  ...      0.0035     59.3840      0.5047   \n",
       "98   99.9211    0.1203    1.4406  ...      0.0041     44.1766      0.4999   \n",
       "99   95.4256    0.1234    1.4685  ...      0.0052     98.1126      0.5035   \n",
       "\n",
       "    Sensor-584  Sensor-585  Sensor-586  Sensor-587  Sensor-588  Sensor-589  \\\n",
       "0       0.0153      0.0035      3.0545      0.0338      0.0119      0.0037   \n",
       "1       0.0082      0.0025      1.6240      0.0208      0.0149      0.0050   \n",
       "2       0.0119      0.0027      2.3794      0.0058      0.0169      0.0060   \n",
       "3       0.0115      0.0027      2.2920      0.0058      0.0169      0.0060   \n",
       "4       0.0100      0.0029      1.9890      0.0058      0.0169      0.0060   \n",
       "..         ...         ...         ...         ...         ...         ...   \n",
       "95      0.0144      0.0038      2.8593      0.0287      0.0149      0.0048   \n",
       "96      0.0124      0.0038      2.4550      0.0265      0.0083      0.0029   \n",
       "97      0.0093      0.0033      1.8502      0.0214      0.0127      0.0035   \n",
       "98      0.0102      0.0029      2.0404      0.0327      0.0144      0.0041   \n",
       "99      0.0130      0.0034      2.5797      0.0131      0.0129      0.0052   \n",
       "\n",
       "    Sensor-590  \n",
       "0      35.2148  \n",
       "1      71.5753  \n",
       "2     289.9234  \n",
       "3     289.9234  \n",
       "4     289.9234  \n",
       "..         ...  \n",
       "95     51.8065  \n",
       "96     31.4679  \n",
       "97     59.3840  \n",
       "98     44.1766  \n",
       "99     98.1126  \n",
       "\n",
       "[100 rows x 591 columns]"
      ]
     },
     "execution_count": 12,
     "metadata": {},
     "output_type": "execute_result"
    }
   ],
   "source": [
    "df"
   ]
  },
  {
   "cell_type": "code",
   "execution_count": 18,
   "id": "0b88d2df",
   "metadata": {},
   "outputs": [
    {
     "data": {
      "text/plain": [
       "Unnamed: 0    0\n",
       "Sensor-1      0\n",
       "Sensor-2      0\n",
       "Sensor-3      0\n",
       "Sensor-4      0\n",
       "             ..\n",
       "Sensor-586    0\n",
       "Sensor-587    0\n",
       "Sensor-588    0\n",
       "Sensor-589    0\n",
       "Sensor-590    0\n",
       "Length: 591, dtype: int64"
      ]
     },
     "execution_count": 18,
     "metadata": {},
     "output_type": "execute_result"
    }
   ],
   "source": [
    "df.isna().sum()"
   ]
  },
  {
   "cell_type": "code",
   "execution_count": null,
   "id": "f560e63e",
   "metadata": {},
   "outputs": [],
   "source": []
  },
  {
   "cell_type": "code",
   "execution_count": null,
   "id": "66200ea7",
   "metadata": {},
   "outputs": [],
   "source": []
  },
  {
   "cell_type": "code",
   "execution_count": null,
   "id": "2a97514a",
   "metadata": {},
   "outputs": [],
   "source": []
  },
  {
   "cell_type": "code",
   "execution_count": null,
   "id": "4ad0c770",
   "metadata": {},
   "outputs": [],
   "source": []
  },
  {
   "cell_type": "code",
   "execution_count": null,
   "id": "73851c9a",
   "metadata": {},
   "outputs": [],
   "source": []
  },
  {
   "cell_type": "code",
   "execution_count": 45,
   "id": "7230107f",
   "metadata": {},
   "outputs": [],
   "source": [
    "data = {'Name':['Jai', 'Princi', 'Gaurav', 'Anuj'],\n",
    "        'Age':[27, 24, 22, 32],\n",
    "        'Address':[None, 'Kanpur', 'Allahabad', 'Kannauj'],\n",
    "        'Qualification':['Msc', None, 'MCA',None]}"
   ]
  },
  {
   "cell_type": "code",
   "execution_count": 46,
   "id": "a3ae4fac",
   "metadata": {},
   "outputs": [],
   "source": [
    "df=pd.DataFrame(data)"
   ]
  },
  {
   "cell_type": "code",
   "execution_count": 47,
   "id": "22d38d31",
   "metadata": {},
   "outputs": [
    {
     "data": {
      "text/html": [
       "<div>\n",
       "<style scoped>\n",
       "    .dataframe tbody tr th:only-of-type {\n",
       "        vertical-align: middle;\n",
       "    }\n",
       "\n",
       "    .dataframe tbody tr th {\n",
       "        vertical-align: top;\n",
       "    }\n",
       "\n",
       "    .dataframe thead th {\n",
       "        text-align: right;\n",
       "    }\n",
       "</style>\n",
       "<table border=\"1\" class=\"dataframe\">\n",
       "  <thead>\n",
       "    <tr style=\"text-align: right;\">\n",
       "      <th></th>\n",
       "      <th>Name</th>\n",
       "      <th>Age</th>\n",
       "      <th>Address</th>\n",
       "      <th>Qualification</th>\n",
       "    </tr>\n",
       "  </thead>\n",
       "  <tbody>\n",
       "    <tr>\n",
       "      <th>0</th>\n",
       "      <td>Jai</td>\n",
       "      <td>27</td>\n",
       "      <td>None</td>\n",
       "      <td>Msc</td>\n",
       "    </tr>\n",
       "    <tr>\n",
       "      <th>1</th>\n",
       "      <td>Princi</td>\n",
       "      <td>24</td>\n",
       "      <td>Kanpur</td>\n",
       "      <td>None</td>\n",
       "    </tr>\n",
       "    <tr>\n",
       "      <th>2</th>\n",
       "      <td>Gaurav</td>\n",
       "      <td>22</td>\n",
       "      <td>Allahabad</td>\n",
       "      <td>MCA</td>\n",
       "    </tr>\n",
       "    <tr>\n",
       "      <th>3</th>\n",
       "      <td>Anuj</td>\n",
       "      <td>32</td>\n",
       "      <td>Kannauj</td>\n",
       "      <td>None</td>\n",
       "    </tr>\n",
       "  </tbody>\n",
       "</table>\n",
       "</div>"
      ],
      "text/plain": [
       "     Name  Age    Address Qualification\n",
       "0     Jai   27       None           Msc\n",
       "1  Princi   24     Kanpur          None\n",
       "2  Gaurav   22  Allahabad           MCA\n",
       "3    Anuj   32    Kannauj          None"
      ]
     },
     "execution_count": 47,
     "metadata": {},
     "output_type": "execute_result"
    }
   ],
   "source": [
    "df"
   ]
  },
  {
   "cell_type": "code",
   "execution_count": 48,
   "id": "3cddb899",
   "metadata": {},
   "outputs": [
    {
     "data": {
      "text/plain": [
       "Name             0\n",
       "Age              0\n",
       "Address          1\n",
       "Qualification    2\n",
       "dtype: int64"
      ]
     },
     "execution_count": 48,
     "metadata": {},
     "output_type": "execute_result"
    }
   ],
   "source": [
    "df.isna().sum()"
   ]
  },
  {
   "cell_type": "code",
   "execution_count": 49,
   "id": "3bbb76e6",
   "metadata": {},
   "outputs": [],
   "source": [
    "df_null= pd.DataFrame()\n",
    "df_null['Columns'] = df.columns"
   ]
  },
  {
   "cell_type": "code",
   "execution_count": 50,
   "id": "ab90d580",
   "metadata": {},
   "outputs": [
    {
     "data": {
      "text/html": [
       "<div>\n",
       "<style scoped>\n",
       "    .dataframe tbody tr th:only-of-type {\n",
       "        vertical-align: middle;\n",
       "    }\n",
       "\n",
       "    .dataframe tbody tr th {\n",
       "        vertical-align: top;\n",
       "    }\n",
       "\n",
       "    .dataframe thead th {\n",
       "        text-align: right;\n",
       "    }\n",
       "</style>\n",
       "<table border=\"1\" class=\"dataframe\">\n",
       "  <thead>\n",
       "    <tr style=\"text-align: right;\">\n",
       "      <th></th>\n",
       "      <th>Columns</th>\n",
       "    </tr>\n",
       "  </thead>\n",
       "  <tbody>\n",
       "    <tr>\n",
       "      <th>0</th>\n",
       "      <td>Name</td>\n",
       "    </tr>\n",
       "    <tr>\n",
       "      <th>1</th>\n",
       "      <td>Age</td>\n",
       "    </tr>\n",
       "    <tr>\n",
       "      <th>2</th>\n",
       "      <td>Address</td>\n",
       "    </tr>\n",
       "    <tr>\n",
       "      <th>3</th>\n",
       "      <td>Qualification</td>\n",
       "    </tr>\n",
       "  </tbody>\n",
       "</table>\n",
       "</div>"
      ],
      "text/plain": [
       "         Columns\n",
       "0           Name\n",
       "1            Age\n",
       "2        Address\n",
       "3  Qualification"
      ]
     },
     "execution_count": 50,
     "metadata": {},
     "output_type": "execute_result"
    }
   ],
   "source": [
    "df_null"
   ]
  },
  {
   "cell_type": "code",
   "execution_count": 51,
   "id": "371a6cd6",
   "metadata": {},
   "outputs": [
    {
     "data": {
      "text/plain": [
       "array([0, 0, 1, 2], dtype=int64)"
      ]
     },
     "execution_count": 51,
     "metadata": {},
     "output_type": "execute_result"
    }
   ],
   "source": [
    "np.asarray(df.isna().sum())"
   ]
  },
  {
   "cell_type": "code",
   "execution_count": 52,
   "id": "38136e99",
   "metadata": {},
   "outputs": [],
   "source": [
    "df_null['Missing Value'] = np.asarray(df.isna().sum())"
   ]
  },
  {
   "cell_type": "code",
   "execution_count": 53,
   "id": "c8215987",
   "metadata": {},
   "outputs": [
    {
     "data": {
      "text/html": [
       "<div>\n",
       "<style scoped>\n",
       "    .dataframe tbody tr th:only-of-type {\n",
       "        vertical-align: middle;\n",
       "    }\n",
       "\n",
       "    .dataframe tbody tr th {\n",
       "        vertical-align: top;\n",
       "    }\n",
       "\n",
       "    .dataframe thead th {\n",
       "        text-align: right;\n",
       "    }\n",
       "</style>\n",
       "<table border=\"1\" class=\"dataframe\">\n",
       "  <thead>\n",
       "    <tr style=\"text-align: right;\">\n",
       "      <th></th>\n",
       "      <th>Columns</th>\n",
       "      <th>Missing Value</th>\n",
       "    </tr>\n",
       "  </thead>\n",
       "  <tbody>\n",
       "    <tr>\n",
       "      <th>0</th>\n",
       "      <td>Name</td>\n",
       "      <td>0</td>\n",
       "    </tr>\n",
       "    <tr>\n",
       "      <th>1</th>\n",
       "      <td>Age</td>\n",
       "      <td>0</td>\n",
       "    </tr>\n",
       "    <tr>\n",
       "      <th>2</th>\n",
       "      <td>Address</td>\n",
       "      <td>1</td>\n",
       "    </tr>\n",
       "    <tr>\n",
       "      <th>3</th>\n",
       "      <td>Qualification</td>\n",
       "      <td>2</td>\n",
       "    </tr>\n",
       "  </tbody>\n",
       "</table>\n",
       "</div>"
      ],
      "text/plain": [
       "         Columns  Missing Value\n",
       "0           Name              0\n",
       "1            Age              0\n",
       "2        Address              1\n",
       "3  Qualification              2"
      ]
     },
     "execution_count": 53,
     "metadata": {},
     "output_type": "execute_result"
    }
   ],
   "source": [
    "df_null"
   ]
  },
  {
   "cell_type": "code",
   "execution_count": 56,
   "id": "e38aed31",
   "metadata": {},
   "outputs": [
    {
     "data": {
      "text/plain": [
       "nan"
      ]
     },
     "execution_count": 56,
     "metadata": {},
     "output_type": "execute_result"
    }
   ],
   "source": [
    "np.nan"
   ]
  },
  {
   "cell_type": "code",
   "execution_count": null,
   "id": "66c64534",
   "metadata": {},
   "outputs": [],
   "source": []
  },
  {
   "cell_type": "code",
   "execution_count": null,
   "id": "12a27751",
   "metadata": {},
   "outputs": [],
   "source": []
  },
  {
   "cell_type": "code",
   "execution_count": null,
   "id": "2c430097",
   "metadata": {},
   "outputs": [],
   "source": []
  },
  {
   "cell_type": "code",
   "execution_count": null,
   "id": "4ba5a5eb",
   "metadata": {},
   "outputs": [],
   "source": []
  },
  {
   "cell_type": "code",
   "execution_count": null,
   "id": "50b14d55",
   "metadata": {},
   "outputs": [],
   "source": []
  },
  {
   "cell_type": "code",
   "execution_count": 57,
   "id": "d6b07b79",
   "metadata": {},
   "outputs": [
    {
     "data": {
      "text/html": [
       "<div>\n",
       "<style scoped>\n",
       "    .dataframe tbody tr th:only-of-type {\n",
       "        vertical-align: middle;\n",
       "    }\n",
       "\n",
       "    .dataframe tbody tr th {\n",
       "        vertical-align: top;\n",
       "    }\n",
       "\n",
       "    .dataframe thead th {\n",
       "        text-align: right;\n",
       "    }\n",
       "</style>\n",
       "<table border=\"1\" class=\"dataframe\">\n",
       "  <thead>\n",
       "    <tr style=\"text-align: right;\">\n",
       "      <th></th>\n",
       "      <th>Name</th>\n",
       "      <th>Age</th>\n",
       "      <th>Address</th>\n",
       "      <th>Qualification</th>\n",
       "    </tr>\n",
       "  </thead>\n",
       "  <tbody>\n",
       "    <tr>\n",
       "      <th>0</th>\n",
       "      <td>Jai</td>\n",
       "      <td>27</td>\n",
       "      <td>None</td>\n",
       "      <td>Msc</td>\n",
       "    </tr>\n",
       "    <tr>\n",
       "      <th>1</th>\n",
       "      <td>Princi</td>\n",
       "      <td>24</td>\n",
       "      <td>Kanpur</td>\n",
       "      <td>None</td>\n",
       "    </tr>\n",
       "    <tr>\n",
       "      <th>2</th>\n",
       "      <td>Gaurav</td>\n",
       "      <td>22</td>\n",
       "      <td>Allahabad</td>\n",
       "      <td>MCA</td>\n",
       "    </tr>\n",
       "    <tr>\n",
       "      <th>3</th>\n",
       "      <td>Anuj</td>\n",
       "      <td>32</td>\n",
       "      <td>Kannauj</td>\n",
       "      <td>None</td>\n",
       "    </tr>\n",
       "  </tbody>\n",
       "</table>\n",
       "</div>"
      ],
      "text/plain": [
       "     Name  Age    Address Qualification\n",
       "0     Jai   27       None           Msc\n",
       "1  Princi   24     Kanpur          None\n",
       "2  Gaurav   22  Allahabad           MCA\n",
       "3    Anuj   32    Kannauj          None"
      ]
     },
     "execution_count": 57,
     "metadata": {},
     "output_type": "execute_result"
    }
   ],
   "source": [
    "df"
   ]
  },
  {
   "cell_type": "code",
   "execution_count": 60,
   "id": "10933737",
   "metadata": {},
   "outputs": [
    {
     "data": {
      "text/html": [
       "<div>\n",
       "<style scoped>\n",
       "    .dataframe tbody tr th:only-of-type {\n",
       "        vertical-align: middle;\n",
       "    }\n",
       "\n",
       "    .dataframe tbody tr th {\n",
       "        vertical-align: top;\n",
       "    }\n",
       "\n",
       "    .dataframe thead th {\n",
       "        text-align: right;\n",
       "    }\n",
       "</style>\n",
       "<table border=\"1\" class=\"dataframe\">\n",
       "  <thead>\n",
       "    <tr style=\"text-align: right;\">\n",
       "      <th></th>\n",
       "      <th>Age</th>\n",
       "    </tr>\n",
       "  </thead>\n",
       "  <tbody>\n",
       "    <tr>\n",
       "      <th>count</th>\n",
       "      <td>4.000000</td>\n",
       "    </tr>\n",
       "    <tr>\n",
       "      <th>mean</th>\n",
       "      <td>26.250000</td>\n",
       "    </tr>\n",
       "    <tr>\n",
       "      <th>std</th>\n",
       "      <td>4.349329</td>\n",
       "    </tr>\n",
       "    <tr>\n",
       "      <th>min</th>\n",
       "      <td>22.000000</td>\n",
       "    </tr>\n",
       "    <tr>\n",
       "      <th>25%</th>\n",
       "      <td>23.500000</td>\n",
       "    </tr>\n",
       "    <tr>\n",
       "      <th>50%</th>\n",
       "      <td>25.500000</td>\n",
       "    </tr>\n",
       "    <tr>\n",
       "      <th>75%</th>\n",
       "      <td>28.250000</td>\n",
       "    </tr>\n",
       "    <tr>\n",
       "      <th>max</th>\n",
       "      <td>32.000000</td>\n",
       "    </tr>\n",
       "  </tbody>\n",
       "</table>\n",
       "</div>"
      ],
      "text/plain": [
       "             Age\n",
       "count   4.000000\n",
       "mean   26.250000\n",
       "std     4.349329\n",
       "min    22.000000\n",
       "25%    23.500000\n",
       "50%    25.500000\n",
       "75%    28.250000\n",
       "max    32.000000"
      ]
     },
     "execution_count": 60,
     "metadata": {},
     "output_type": "execute_result"
    }
   ],
   "source": [
    "df.describe()"
   ]
  },
  {
   "cell_type": "code",
   "execution_count": 61,
   "id": "9709128a",
   "metadata": {},
   "outputs": [],
   "source": [
    "df_n = df.describe()"
   ]
  },
  {
   "cell_type": "code",
   "execution_count": 62,
   "id": "533abcfc",
   "metadata": {},
   "outputs": [
    {
     "data": {
      "text/plain": [
       "count     4.000000\n",
       "mean     26.250000\n",
       "std       4.349329\n",
       "min      22.000000\n",
       "25%      23.500000\n",
       "50%      25.500000\n",
       "75%      28.250000\n",
       "max      32.000000\n",
       "Name: Age, dtype: float64"
      ]
     },
     "execution_count": 62,
     "metadata": {},
     "output_type": "execute_result"
    }
   ],
   "source": [
    "df_n['Age']"
   ]
  },
  {
   "cell_type": "code",
   "execution_count": 63,
   "id": "a3fcdae8",
   "metadata": {},
   "outputs": [
    {
     "data": {
      "text/plain": [
       "4.349329450233296"
      ]
     },
     "execution_count": 63,
     "metadata": {},
     "output_type": "execute_result"
    }
   ],
   "source": [
    "df_n['Age']['std']"
   ]
  },
  {
   "cell_type": "code",
   "execution_count": 64,
   "id": "63ffca0f",
   "metadata": {},
   "outputs": [
    {
     "data": {
      "text/html": [
       "<div>\n",
       "<style scoped>\n",
       "    .dataframe tbody tr th:only-of-type {\n",
       "        vertical-align: middle;\n",
       "    }\n",
       "\n",
       "    .dataframe tbody tr th {\n",
       "        vertical-align: top;\n",
       "    }\n",
       "\n",
       "    .dataframe thead th {\n",
       "        text-align: right;\n",
       "    }\n",
       "</style>\n",
       "<table border=\"1\" class=\"dataframe\">\n",
       "  <thead>\n",
       "    <tr style=\"text-align: right;\">\n",
       "      <th></th>\n",
       "      <th>Name</th>\n",
       "      <th>Age</th>\n",
       "      <th>Address</th>\n",
       "      <th>Qualification</th>\n",
       "    </tr>\n",
       "  </thead>\n",
       "  <tbody>\n",
       "    <tr>\n",
       "      <th>0</th>\n",
       "      <td>Jai</td>\n",
       "      <td>27</td>\n",
       "      <td>None</td>\n",
       "      <td>Msc</td>\n",
       "    </tr>\n",
       "    <tr>\n",
       "      <th>1</th>\n",
       "      <td>Princi</td>\n",
       "      <td>24</td>\n",
       "      <td>Kanpur</td>\n",
       "      <td>None</td>\n",
       "    </tr>\n",
       "    <tr>\n",
       "      <th>2</th>\n",
       "      <td>Gaurav</td>\n",
       "      <td>22</td>\n",
       "      <td>Allahabad</td>\n",
       "      <td>MCA</td>\n",
       "    </tr>\n",
       "    <tr>\n",
       "      <th>3</th>\n",
       "      <td>Anuj</td>\n",
       "      <td>32</td>\n",
       "      <td>Kannauj</td>\n",
       "      <td>None</td>\n",
       "    </tr>\n",
       "  </tbody>\n",
       "</table>\n",
       "</div>"
      ],
      "text/plain": [
       "     Name  Age    Address Qualification\n",
       "0     Jai   27       None           Msc\n",
       "1  Princi   24     Kanpur          None\n",
       "2  Gaurav   22  Allahabad           MCA\n",
       "3    Anuj   32    Kannauj          None"
      ]
     },
     "execution_count": 64,
     "metadata": {},
     "output_type": "execute_result"
    }
   ],
   "source": [
    "df"
   ]
  },
  {
   "cell_type": "code",
   "execution_count": 66,
   "id": "2339b4e5",
   "metadata": {},
   "outputs": [
    {
     "data": {
      "text/plain": [
       "array(['Jai', 'Princi', 'Gaurav', 'Anuj'], dtype=object)"
      ]
     },
     "execution_count": 66,
     "metadata": {},
     "output_type": "execute_result"
    }
   ],
   "source": [
    "df['Name'].unique()"
   ]
  },
  {
   "cell_type": "code",
   "execution_count": null,
   "id": "f6dd2093",
   "metadata": {},
   "outputs": [],
   "source": []
  }
 ],
 "metadata": {
  "kernelspec": {
   "display_name": "Python 3 (ipykernel)",
   "language": "python",
   "name": "python3"
  },
  "language_info": {
   "codemirror_mode": {
    "name": "ipython",
    "version": 3
   },
   "file_extension": ".py",
   "mimetype": "text/x-python",
   "name": "python",
   "nbconvert_exporter": "python",
   "pygments_lexer": "ipython3",
   "version": "3.9.12"
  }
 },
 "nbformat": 4,
 "nbformat_minor": 5
}
