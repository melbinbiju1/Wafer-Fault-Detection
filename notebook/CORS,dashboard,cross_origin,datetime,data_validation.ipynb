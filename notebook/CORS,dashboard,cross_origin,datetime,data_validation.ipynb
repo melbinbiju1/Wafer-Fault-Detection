{
 "cells": [
  {
   "cell_type": "raw",
   "id": "131b3f6a",
   "metadata": {},
   "source": [
    " Cross-Origin Resource Sharing (CORS)"
   ]
  },
  {
   "cell_type": "raw",
   "id": "7754da7b",
   "metadata": {},
   "source": [
    "CORS is a technique used in web development to allow web pages from different domains to access resources on the server. By default, web browsers block requests to resources on a different domain for security reasons. CORS allows web developers to specify which domains are allowed to access the resources on the server. This is important when making requests to APIs from a web page hosted on a different domain, for example. The CORS library provides an easy way to configure CORS for Flask applications."
   ]
  },
  {
   "cell_type": "raw",
   "id": "5599cf82",
   "metadata": {},
   "source": [
    "Here's an example of how CORS works:\n",
    "\n",
    "Let's say you have a web application that is hosted on https://example.com. This application makes an HTTP request to an API that is hosted on https://api.example.org. Normally, this request would be blocked by the web browser, because the domains of the web application and the API are different.\n",
    "\n",
    "To allow the request to go through, the API must send the following response header:\n",
    "Access-Control-Allow-Origin: https://example.com\n",
    "This header indicates that the API allows requests from the https://example.com domain. When the web browser sees this header, it allows the request to go through and returns the response to the web application.\n",
    "\n",
    "If the API allowed requests from any domain, it could send the following response header:\n",
    "Access-Control-Allow-Origin: *\n",
    "This header indicates that the API allows requests from any domain. However, this can be a security risk, as it allows any website to make requests to the API. In general, it's better to restrict access to specific domains, rather than allowing all domains."
   ]
  },
  {
   "cell_type": "code",
   "execution_count": null,
   "id": "516aebcd",
   "metadata": {},
   "outputs": [],
   "source": []
  },
  {
   "cell_type": "code",
   "execution_count": null,
   "id": "1f7b2961",
   "metadata": {},
   "outputs": [],
   "source": []
  },
  {
   "cell_type": "code",
   "execution_count": null,
   "id": "508403d3",
   "metadata": {},
   "outputs": [],
   "source": []
  },
  {
   "cell_type": "code",
   "execution_count": null,
   "id": "46a17b09",
   "metadata": {},
   "outputs": [],
   "source": []
  },
  {
   "cell_type": "code",
   "execution_count": null,
   "id": "621ed7e6",
   "metadata": {},
   "outputs": [],
   "source": []
  },
  {
   "cell_type": "raw",
   "id": "e27f557d",
   "metadata": {},
   "source": [
    "dashboard.bind(app) is a method call that binds the dashboard to the Flask application instance.\n",
    "\n",
    "In web development, a dashboard is a web page or a set of web pages that provides visual representations of data and allows users to interact with the data. Dashboards are commonly used in business intelligence, data analytics, and other data-related applications.\n",
    "\n",
    "The dashboard object represents the dashboard created using a library like Plotly Dash or Flask-Dash. The bind() method is used to integrate the dashboard into the Flask application. This method call associates the dashboard with the Flask application instance, so that the dashboard is accessible through the application's URL routes and can be served by the Flask web server.\n",
    "\n",
    "For example, if the dashboard object represents a dashboard that displays sales data, calling dashboard.bind(app) would make the dashboard accessible through a URL like http://localhost:5000/sales-dashboard, where http://localhost:5000 is the address of the Flask web server and /sales-dashboard is the URL route associated with the dashboard.\n"
   ]
  },
  {
   "cell_type": "code",
   "execution_count": null,
   "id": "dbf3edb1",
   "metadata": {},
   "outputs": [],
   "source": []
  },
  {
   "cell_type": "code",
   "execution_count": null,
   "id": "2ad46a84",
   "metadata": {},
   "outputs": [],
   "source": []
  },
  {
   "cell_type": "code",
   "execution_count": null,
   "id": "f849f2f0",
   "metadata": {},
   "outputs": [],
   "source": []
  },
  {
   "cell_type": "code",
   "execution_count": null,
   "id": "b91705d6",
   "metadata": {},
   "outputs": [],
   "source": []
  },
  {
   "cell_type": "raw",
   "id": "09fafa09",
   "metadata": {},
   "source": [
    "You can use either CORS(app) or @cross_origin() to enable Cross-Origin Resource Sharing (CORS) in your Flask application.\n",
    "\n",
    "The difference between the two is that CORS(app) applies CORS rules to all routes of your Flask application by default, while @cross_origin() applies CORS rules only to the decorated route or endpoint.\n",
    "\n",
    "Using @cross_origin() allows you to apply different CORS rules to different routes or endpoints in your Flask application. For example, you might want to allow requests from a specific origin for one route, while allowing requests from a different origin for another route.\n",
    "\n",
    "On the other hand, using CORS(app) enables CORS for all routes in your Flask application by default. This can be useful if you want to allow requests from any origin for all routes.\n",
    "\n",
    "In summary, CORS(app) is a convenient way to enable CORS for all routes in your Flask application, while @cross_origin() is a more flexible way to enable CORS for specific routes or endpoints with custom rules. The choice between the two depends on your specific requirements for CORS in your Flask application."
   ]
  },
  {
   "cell_type": "code",
   "execution_count": null,
   "id": "4d12a5fc",
   "metadata": {},
   "outputs": [],
   "source": []
  },
  {
   "cell_type": "code",
   "execution_count": null,
   "id": "10356f25",
   "metadata": {},
   "outputs": [],
   "source": []
  },
  {
   "cell_type": "code",
   "execution_count": null,
   "id": "efa90f03",
   "metadata": {},
   "outputs": [],
   "source": []
  },
  {
   "cell_type": "code",
   "execution_count": null,
   "id": "51f4ae7b",
   "metadata": {},
   "outputs": [],
   "source": []
  },
  {
   "cell_type": "code",
   "execution_count": 1,
   "id": "07e4fb5d",
   "metadata": {},
   "outputs": [],
   "source": [
    "from flask import request"
   ]
  },
  {
   "cell_type": "code",
   "execution_count": 3,
   "id": "12df0b1d",
   "metadata": {},
   "outputs": [
    {
     "ename": "RuntimeError",
     "evalue": "Working outside of request context.\n\nThis typically means that you attempted to use functionality that needed\nan active HTTP request.  Consult the documentation on testing for\ninformation about how to avoid this problem.",
     "output_type": "error",
     "traceback": [
      "\u001b[1;31m---------------------------------------------------------------------------\u001b[0m",
      "\u001b[1;31mRuntimeError\u001b[0m                              Traceback (most recent call last)",
      "Input \u001b[1;32mIn [3]\u001b[0m, in \u001b[0;36m<cell line: 1>\u001b[1;34m()\u001b[0m\n\u001b[1;32m----> 1\u001b[0m \u001b[43mrequest\u001b[49m\u001b[38;5;241;43m.\u001b[39;49m\u001b[43mjson\u001b[49m[\u001b[38;5;124mr\u001b[39m\u001b[38;5;124m'\u001b[39m\u001b[38;5;124mC:\u001b[39m\u001b[38;5;124m\\\u001b[39m\u001b[38;5;124mUsers\u001b[39m\u001b[38;5;124m\\\u001b[39m\u001b[38;5;124muser\u001b[39m\u001b[38;5;124m\\\u001b[39m\u001b[38;5;124mDesktop\u001b[39m\u001b[38;5;124m\\\u001b[39m\u001b[38;5;124mreal_ml_projects\u001b[39m\u001b[38;5;124m\\\u001b[39m\u001b[38;5;124mWafar_fault_detection\u001b[39m\u001b[38;5;124m\\\u001b[39m\u001b[38;5;124mwaferFaultDetection\u001b[39m\u001b[38;5;124m\\\u001b[39m\u001b[38;5;124mcode\u001b[39m\u001b[38;5;124m\\\u001b[39m\u001b[38;5;124mWaferFaultDetection_new\u001b[39m\u001b[38;5;124m\\\u001b[39m\u001b[38;5;124mTraining_Batch_Files\u001b[39m\u001b[38;5;124m'\u001b[39m]\n",
      "File \u001b[1;32m~\\anaconda3\\lib\\site-packages\\werkzeug\\local.py:347\u001b[0m, in \u001b[0;36mLocalProxy.__getattr__\u001b[1;34m(self, name)\u001b[0m\n\u001b[0;32m    345\u001b[0m \u001b[38;5;28;01mif\u001b[39;00m name \u001b[38;5;241m==\u001b[39m \u001b[38;5;124m\"\u001b[39m\u001b[38;5;124m__members__\u001b[39m\u001b[38;5;124m\"\u001b[39m:\n\u001b[0;32m    346\u001b[0m     \u001b[38;5;28;01mreturn\u001b[39;00m \u001b[38;5;28mdir\u001b[39m(\u001b[38;5;28mself\u001b[39m\u001b[38;5;241m.\u001b[39m_get_current_object())\n\u001b[1;32m--> 347\u001b[0m \u001b[38;5;28;01mreturn\u001b[39;00m \u001b[38;5;28mgetattr\u001b[39m(\u001b[38;5;28;43mself\u001b[39;49m\u001b[38;5;241;43m.\u001b[39;49m\u001b[43m_get_current_object\u001b[49m\u001b[43m(\u001b[49m\u001b[43m)\u001b[49m, name)\n",
      "File \u001b[1;32m~\\anaconda3\\lib\\site-packages\\werkzeug\\local.py:306\u001b[0m, in \u001b[0;36mLocalProxy._get_current_object\u001b[1;34m(self)\u001b[0m\n\u001b[0;32m    301\u001b[0m \u001b[38;5;124;03m\"\"\"Return the current object.  This is useful if you want the real\u001b[39;00m\n\u001b[0;32m    302\u001b[0m \u001b[38;5;124;03mobject behind the proxy at a time for performance reasons or because\u001b[39;00m\n\u001b[0;32m    303\u001b[0m \u001b[38;5;124;03myou want to pass the object into a different context.\u001b[39;00m\n\u001b[0;32m    304\u001b[0m \u001b[38;5;124;03m\"\"\"\u001b[39;00m\n\u001b[0;32m    305\u001b[0m \u001b[38;5;28;01mif\u001b[39;00m \u001b[38;5;129;01mnot\u001b[39;00m \u001b[38;5;28mhasattr\u001b[39m(\u001b[38;5;28mself\u001b[39m\u001b[38;5;241m.\u001b[39m__local, \u001b[38;5;124m\"\u001b[39m\u001b[38;5;124m__release_local__\u001b[39m\u001b[38;5;124m\"\u001b[39m):\n\u001b[1;32m--> 306\u001b[0m     \u001b[38;5;28;01mreturn\u001b[39;00m \u001b[38;5;28;43mself\u001b[39;49m\u001b[38;5;241;43m.\u001b[39;49m\u001b[43m__local\u001b[49m\u001b[43m(\u001b[49m\u001b[43m)\u001b[49m\n\u001b[0;32m    307\u001b[0m \u001b[38;5;28;01mtry\u001b[39;00m:\n\u001b[0;32m    308\u001b[0m     \u001b[38;5;28;01mreturn\u001b[39;00m \u001b[38;5;28mgetattr\u001b[39m(\u001b[38;5;28mself\u001b[39m\u001b[38;5;241m.\u001b[39m__local, \u001b[38;5;28mself\u001b[39m\u001b[38;5;241m.\u001b[39m\u001b[38;5;18m__name__\u001b[39m)\n",
      "File \u001b[1;32m~\\anaconda3\\lib\\site-packages\\flask\\globals.py:38\u001b[0m, in \u001b[0;36m_lookup_req_object\u001b[1;34m(name)\u001b[0m\n\u001b[0;32m     36\u001b[0m top \u001b[38;5;241m=\u001b[39m _request_ctx_stack\u001b[38;5;241m.\u001b[39mtop\n\u001b[0;32m     37\u001b[0m \u001b[38;5;28;01mif\u001b[39;00m top \u001b[38;5;129;01mis\u001b[39;00m \u001b[38;5;28;01mNone\u001b[39;00m:\n\u001b[1;32m---> 38\u001b[0m     \u001b[38;5;28;01mraise\u001b[39;00m \u001b[38;5;167;01mRuntimeError\u001b[39;00m(_request_ctx_err_msg)\n\u001b[0;32m     39\u001b[0m \u001b[38;5;28;01mreturn\u001b[39;00m \u001b[38;5;28mgetattr\u001b[39m(top, name)\n",
      "\u001b[1;31mRuntimeError\u001b[0m: Working outside of request context.\n\nThis typically means that you attempted to use functionality that needed\nan active HTTP request.  Consult the documentation on testing for\ninformation about how to avoid this problem."
     ]
    }
   ],
   "source": [
    "request.json[r'C:\\Users\\user\\Desktop\\real_ml_projects\\Wafar_fault_detection\\waferFaultDetection\\code\\WaferFaultDetection_new\\Training_Batch_Files']"
   ]
  },
  {
   "cell_type": "code",
   "execution_count": null,
   "id": "460dac50",
   "metadata": {},
   "outputs": [],
   "source": []
  },
  {
   "cell_type": "code",
   "execution_count": null,
   "id": "459c0f6b",
   "metadata": {},
   "outputs": [],
   "source": []
  },
  {
   "cell_type": "code",
   "execution_count": null,
   "id": "cfcf95f7",
   "metadata": {},
   "outputs": [],
   "source": []
  },
  {
   "cell_type": "code",
   "execution_count": null,
   "id": "1b075432",
   "metadata": {},
   "outputs": [],
   "source": []
  },
  {
   "cell_type": "code",
   "execution_count": 5,
   "id": "98d8ae11",
   "metadata": {},
   "outputs": [
    {
     "ename": "InvalidSchema",
     "evalue": "No connection adapters were found for 'localhost:5000'",
     "output_type": "error",
     "traceback": [
      "\u001b[1;31m---------------------------------------------------------------------------\u001b[0m",
      "\u001b[1;31mInvalidSchema\u001b[0m                             Traceback (most recent call last)",
      "Input \u001b[1;32mIn [5]\u001b[0m, in \u001b[0;36m<cell line: 5>\u001b[1;34m()\u001b[0m\n\u001b[0;32m      3\u001b[0m file_path \u001b[38;5;241m=\u001b[39m \u001b[38;5;124m\"\u001b[39m\u001b[38;5;124m/path/to/your/file.txt\u001b[39m\u001b[38;5;124m\"\u001b[39m\n\u001b[0;32m      4\u001b[0m payload \u001b[38;5;241m=\u001b[39m {\u001b[38;5;124m\"\u001b[39m\u001b[38;5;124mfile_path\u001b[39m\u001b[38;5;124m\"\u001b[39m: file_path}\n\u001b[1;32m----> 5\u001b[0m response \u001b[38;5;241m=\u001b[39m \u001b[43mrequests\u001b[49m\u001b[38;5;241;43m.\u001b[39;49m\u001b[43mpost\u001b[49m\u001b[43m(\u001b[49m\u001b[38;5;124;43m'\u001b[39;49m\u001b[38;5;124;43mlocalhost:5000\u001b[39;49m\u001b[38;5;124;43m'\u001b[39;49m\u001b[43m,\u001b[49m\u001b[43m \u001b[49m\u001b[43mjson\u001b[49m\u001b[38;5;241;43m=\u001b[39;49m\u001b[43mpayload\u001b[49m\u001b[43m)\u001b[49m\n",
      "File \u001b[1;32m~\\anaconda3\\lib\\site-packages\\requests\\api.py:115\u001b[0m, in \u001b[0;36mpost\u001b[1;34m(url, data, json, **kwargs)\u001b[0m\n\u001b[0;32m    103\u001b[0m \u001b[38;5;28;01mdef\u001b[39;00m \u001b[38;5;21mpost\u001b[39m(url, data\u001b[38;5;241m=\u001b[39m\u001b[38;5;28;01mNone\u001b[39;00m, json\u001b[38;5;241m=\u001b[39m\u001b[38;5;28;01mNone\u001b[39;00m, \u001b[38;5;241m*\u001b[39m\u001b[38;5;241m*\u001b[39mkwargs):\n\u001b[0;32m    104\u001b[0m     \u001b[38;5;124mr\u001b[39m\u001b[38;5;124;03m\"\"\"Sends a POST request.\u001b[39;00m\n\u001b[0;32m    105\u001b[0m \n\u001b[0;32m    106\u001b[0m \u001b[38;5;124;03m    :param url: URL for the new :class:`Request` object.\u001b[39;00m\n\u001b[1;32m   (...)\u001b[0m\n\u001b[0;32m    112\u001b[0m \u001b[38;5;124;03m    :rtype: requests.Response\u001b[39;00m\n\u001b[0;32m    113\u001b[0m \u001b[38;5;124;03m    \"\"\"\u001b[39;00m\n\u001b[1;32m--> 115\u001b[0m     \u001b[38;5;28;01mreturn\u001b[39;00m request(\u001b[38;5;124m\"\u001b[39m\u001b[38;5;124mpost\u001b[39m\u001b[38;5;124m\"\u001b[39m, url, data\u001b[38;5;241m=\u001b[39mdata, json\u001b[38;5;241m=\u001b[39mjson, \u001b[38;5;241m*\u001b[39m\u001b[38;5;241m*\u001b[39mkwargs)\n",
      "File \u001b[1;32m~\\anaconda3\\lib\\site-packages\\requests\\api.py:59\u001b[0m, in \u001b[0;36mrequest\u001b[1;34m(method, url, **kwargs)\u001b[0m\n\u001b[0;32m     55\u001b[0m \u001b[38;5;66;03m# By using the 'with' statement we are sure the session is closed, thus we\u001b[39;00m\n\u001b[0;32m     56\u001b[0m \u001b[38;5;66;03m# avoid leaving sockets open which can trigger a ResourceWarning in some\u001b[39;00m\n\u001b[0;32m     57\u001b[0m \u001b[38;5;66;03m# cases, and look like a memory leak in others.\u001b[39;00m\n\u001b[0;32m     58\u001b[0m \u001b[38;5;28;01mwith\u001b[39;00m sessions\u001b[38;5;241m.\u001b[39mSession() \u001b[38;5;28;01mas\u001b[39;00m session:\n\u001b[1;32m---> 59\u001b[0m     \u001b[38;5;28;01mreturn\u001b[39;00m session\u001b[38;5;241m.\u001b[39mrequest(method\u001b[38;5;241m=\u001b[39mmethod, url\u001b[38;5;241m=\u001b[39murl, \u001b[38;5;241m*\u001b[39m\u001b[38;5;241m*\u001b[39mkwargs)\n",
      "File \u001b[1;32m~\\anaconda3\\lib\\site-packages\\requests\\sessions.py:587\u001b[0m, in \u001b[0;36mSession.request\u001b[1;34m(self, method, url, params, data, headers, cookies, files, auth, timeout, allow_redirects, proxies, hooks, stream, verify, cert, json)\u001b[0m\n\u001b[0;32m    582\u001b[0m send_kwargs \u001b[38;5;241m=\u001b[39m {\n\u001b[0;32m    583\u001b[0m     \u001b[38;5;124m\"\u001b[39m\u001b[38;5;124mtimeout\u001b[39m\u001b[38;5;124m\"\u001b[39m: timeout,\n\u001b[0;32m    584\u001b[0m     \u001b[38;5;124m\"\u001b[39m\u001b[38;5;124mallow_redirects\u001b[39m\u001b[38;5;124m\"\u001b[39m: allow_redirects,\n\u001b[0;32m    585\u001b[0m }\n\u001b[0;32m    586\u001b[0m send_kwargs\u001b[38;5;241m.\u001b[39mupdate(settings)\n\u001b[1;32m--> 587\u001b[0m resp \u001b[38;5;241m=\u001b[39m \u001b[38;5;28mself\u001b[39m\u001b[38;5;241m.\u001b[39msend(prep, \u001b[38;5;241m*\u001b[39m\u001b[38;5;241m*\u001b[39msend_kwargs)\n\u001b[0;32m    589\u001b[0m \u001b[38;5;28;01mreturn\u001b[39;00m resp\n",
      "File \u001b[1;32m~\\anaconda3\\lib\\site-packages\\requests\\sessions.py:695\u001b[0m, in \u001b[0;36mSession.send\u001b[1;34m(self, request, **kwargs)\u001b[0m\n\u001b[0;32m    692\u001b[0m hooks \u001b[38;5;241m=\u001b[39m request\u001b[38;5;241m.\u001b[39mhooks\n\u001b[0;32m    694\u001b[0m \u001b[38;5;66;03m# Get the appropriate adapter to use\u001b[39;00m\n\u001b[1;32m--> 695\u001b[0m adapter \u001b[38;5;241m=\u001b[39m \u001b[38;5;28;43mself\u001b[39;49m\u001b[38;5;241;43m.\u001b[39;49m\u001b[43mget_adapter\u001b[49m\u001b[43m(\u001b[49m\u001b[43murl\u001b[49m\u001b[38;5;241;43m=\u001b[39;49m\u001b[43mrequest\u001b[49m\u001b[38;5;241;43m.\u001b[39;49m\u001b[43murl\u001b[49m\u001b[43m)\u001b[49m\n\u001b[0;32m    697\u001b[0m \u001b[38;5;66;03m# Start time (approximately) of the request\u001b[39;00m\n\u001b[0;32m    698\u001b[0m start \u001b[38;5;241m=\u001b[39m preferred_clock()\n",
      "File \u001b[1;32m~\\anaconda3\\lib\\site-packages\\requests\\sessions.py:792\u001b[0m, in \u001b[0;36mSession.get_adapter\u001b[1;34m(self, url)\u001b[0m\n\u001b[0;32m    789\u001b[0m         \u001b[38;5;28;01mreturn\u001b[39;00m adapter\n\u001b[0;32m    791\u001b[0m \u001b[38;5;66;03m# Nothing matches :-/\u001b[39;00m\n\u001b[1;32m--> 792\u001b[0m \u001b[38;5;28;01mraise\u001b[39;00m InvalidSchema(\u001b[38;5;124mf\u001b[39m\u001b[38;5;124m\"\u001b[39m\u001b[38;5;124mNo connection adapters were found for \u001b[39m\u001b[38;5;132;01m{\u001b[39;00murl\u001b[38;5;132;01m!r}\u001b[39;00m\u001b[38;5;124m\"\u001b[39m)\n",
      "\u001b[1;31mInvalidSchema\u001b[0m: No connection adapters were found for 'localhost:5000'"
     ]
    }
   ],
   "source": [
    "import requests\n",
    "\n",
    "file_path = \"/path/to/your/file.txt\"\n",
    "payload = {\"file_path\": file_path}\n",
    "response = requests.post('localhost:5000', json=payload)\n"
   ]
  },
  {
   "cell_type": "code",
   "execution_count": null,
   "id": "84bde8ee",
   "metadata": {},
   "outputs": [],
   "source": [
    "from flask import Flask, request\n",
    "\n",
    "app = Flask(__name__)\n",
    "\n",
    "@app.route('/process_file', methods=['POST'])\n",
    "def process_file():\n",
    "    file_path = request.json['file_path']\n",
    "    # Process the file at file_path\n",
    "    return 'File processed successfully'\n",
    "\n",
    "if __name__ == '__main__':\n",
    "    app.run()\n"
   ]
  },
  {
   "cell_type": "code",
   "execution_count": null,
   "id": "03614acc",
   "metadata": {},
   "outputs": [],
   "source": []
  },
  {
   "cell_type": "code",
   "execution_count": null,
   "id": "42d9355a",
   "metadata": {},
   "outputs": [],
   "source": []
  },
  {
   "cell_type": "code",
   "execution_count": null,
   "id": "fb1cd65e",
   "metadata": {},
   "outputs": [],
   "source": []
  },
  {
   "cell_type": "code",
   "execution_count": null,
   "id": "46afb162",
   "metadata": {},
   "outputs": [],
   "source": []
  },
  {
   "cell_type": "code",
   "execution_count": 6,
   "id": "b258d054",
   "metadata": {},
   "outputs": [],
   "source": [
    "from datetime import datetime"
   ]
  },
  {
   "cell_type": "code",
   "execution_count": 7,
   "id": "e73fd5f7",
   "metadata": {},
   "outputs": [
    {
     "data": {
      "text/plain": [
       "datetime.datetime(2023, 3, 11, 0, 38, 32, 817853)"
      ]
     },
     "execution_count": 7,
     "metadata": {},
     "output_type": "execute_result"
    }
   ],
   "source": [
    "datetime.now()"
   ]
  },
  {
   "cell_type": "code",
   "execution_count": 8,
   "id": "05fd9d95",
   "metadata": {},
   "outputs": [],
   "source": [
    "now = datetime.now()"
   ]
  },
  {
   "cell_type": "code",
   "execution_count": 9,
   "id": "9cac1d6e",
   "metadata": {},
   "outputs": [
    {
     "data": {
      "text/plain": [
       "datetime.date(2023, 3, 11)"
      ]
     },
     "execution_count": 9,
     "metadata": {},
     "output_type": "execute_result"
    }
   ],
   "source": [
    "now.date()"
   ]
  },
  {
   "cell_type": "code",
   "execution_count": 14,
   "id": "484b8c97",
   "metadata": {},
   "outputs": [
    {
     "data": {
      "text/plain": [
       "'2023-03-11'"
      ]
     },
     "execution_count": 14,
     "metadata": {},
     "output_type": "execute_result"
    }
   ],
   "source": [
    "str(now.date())"
   ]
  },
  {
   "cell_type": "code",
   "execution_count": 10,
   "id": "7eeb7e46",
   "metadata": {},
   "outputs": [
    {
     "data": {
      "text/plain": [
       "datetime.time(0, 39, 14, 357977)"
      ]
     },
     "execution_count": 10,
     "metadata": {},
     "output_type": "execute_result"
    }
   ],
   "source": [
    "now.time()"
   ]
  },
  {
   "cell_type": "code",
   "execution_count": 13,
   "id": "d119ac13",
   "metadata": {},
   "outputs": [
    {
     "data": {
      "text/plain": [
       "'00:39:14'"
      ]
     },
     "execution_count": 13,
     "metadata": {},
     "output_type": "execute_result"
    }
   ],
   "source": [
    "now.strftime(\"%H:%M:%S\")"
   ]
  },
  {
   "cell_type": "code",
   "execution_count": 15,
   "id": "ddd9ef2f",
   "metadata": {},
   "outputs": [
    {
     "data": {
      "text/plain": [
       "'00:39:14'"
      ]
     },
     "execution_count": 15,
     "metadata": {},
     "output_type": "execute_result"
    }
   ],
   "source": [
    "str(now.strftime(\"%H:%M:%S\"))"
   ]
  },
  {
   "cell_type": "code",
   "execution_count": null,
   "id": "2da36d14",
   "metadata": {},
   "outputs": [],
   "source": []
  },
  {
   "cell_type": "code",
   "execution_count": null,
   "id": "fab7b508",
   "metadata": {},
   "outputs": [],
   "source": []
  },
  {
   "cell_type": "code",
   "execution_count": null,
   "id": "31221d21",
   "metadata": {},
   "outputs": [],
   "source": []
  },
  {
   "cell_type": "code",
   "execution_count": null,
   "id": "ce7423b5",
   "metadata": {},
   "outputs": [],
   "source": []
  },
  {
   "cell_type": "code",
   "execution_count": null,
   "id": "7e0bbcd2",
   "metadata": {},
   "outputs": [],
   "source": []
  },
  {
   "cell_type": "code",
   "execution_count": 22,
   "id": "0aec259f",
   "metadata": {},
   "outputs": [],
   "source": [
    "import json"
   ]
  },
  {
   "cell_type": "code",
   "execution_count": 20,
   "id": "1ae726bf",
   "metadata": {},
   "outputs": [],
   "source": [
    "path = r\"C:\\Users\\user\\Desktop\\real_ml_projects\\Wafar_fault_detection\\waferFaultDetection\\code\\WaferFaultDetection_new\\schema_training.json\""
   ]
  },
  {
   "cell_type": "code",
   "execution_count": 23,
   "id": "f6dc04e4",
   "metadata": {},
   "outputs": [],
   "source": [
    "with open(path) as f:\n",
    "    data=json.load(f)"
   ]
  },
  {
   "cell_type": "code",
   "execution_count": 24,
   "id": "a9d9e7d4",
   "metadata": {},
   "outputs": [
    {
     "name": "stdout",
     "output_type": "stream",
     "text": [
      "{'SampleFileName': 'wafer_08012020_120000.csv', 'LengthOfDateStampInFile': 8, 'LengthOfTimeStampInFile': 6, 'NumberofColumns': 592, 'ColName': {'Wafer': 'varchar', 'Sensor - 1': ' float', 'Sensor - 2': ' float', 'Sensor - 3': ' float', 'Sensor - 4': ' float', 'Sensor - 5': ' float', 'Sensor - 6': ' float', 'Sensor - 7': ' float', 'Sensor - 8': ' float', 'Sensor - 9': ' float', 'Sensor - 10': ' float', 'Sensor - 11': ' float', 'Sensor - 12': ' float', 'Sensor - 13': ' float', 'Sensor - 14': ' float', 'Sensor - 15': ' float', 'Sensor - 16': ' float', 'Sensor - 17': ' float', 'Sensor - 18': ' float', 'Sensor - 19': ' float', 'Sensor - 20': ' float', 'Sensor - 21': ' float', 'Sensor - 22': ' float', 'Sensor - 23': ' float', 'Sensor - 24': ' float', 'Sensor - 25': ' float', 'Sensor - 26': ' float', 'Sensor - 27': ' float', 'Sensor - 28': ' float', 'Sensor - 29': ' float', 'Sensor - 30': ' float', 'Sensor - 31': ' float', 'Sensor - 32': ' float', 'Sensor - 33': ' float', 'Sensor - 34': ' float', 'Sensor - 35': ' float', 'Sensor - 36': ' float', 'Sensor - 37': ' float', 'Sensor - 38': ' float', 'Sensor - 39': ' float', 'Sensor - 40': ' float', 'Sensor - 41': ' float', 'Sensor - 42': ' float', 'Sensor - 43': ' float', 'Sensor - 44': ' float', 'Sensor - 45': ' float', 'Sensor - 46': ' float', 'Sensor - 47': ' float', 'Sensor - 48': ' float', 'Sensor - 49': ' float', 'Sensor - 50': ' float', 'Sensor - 51': ' float', 'Sensor - 52': ' float', 'Sensor - 53': ' float', 'Sensor - 54': ' float', 'Sensor - 55': ' float', 'Sensor - 56': ' float', 'Sensor - 57': ' float', 'Sensor - 58': ' float', 'Sensor - 59': ' float', 'Sensor - 60': ' float', 'Sensor - 61': ' float', 'Sensor - 62': ' float', 'Sensor - 63': ' float', 'Sensor - 64': ' float', 'Sensor - 65': ' float', 'Sensor - 66': ' float', 'Sensor - 67': ' float', 'Sensor - 68': ' float', 'Sensor - 69': ' float', 'Sensor - 70': ' float', 'Sensor - 71': ' float', 'Sensor - 72': ' float', 'Sensor - 73': ' float', 'Sensor - 74': ' float', 'Sensor - 75': ' float', 'Sensor - 76': ' float', 'Sensor - 77': ' float', 'Sensor - 78': ' float', 'Sensor - 79': ' float', 'Sensor - 80': ' float', 'Sensor - 81': ' float', 'Sensor - 82': ' float', 'Sensor - 83': ' float', 'Sensor - 84': ' float', 'Sensor - 85': ' float', 'Sensor - 86': ' float', 'Sensor - 87': ' float', 'Sensor - 88': ' float', 'Sensor - 89': ' float', 'Sensor - 90': ' float', 'Sensor - 91': ' float', 'Sensor - 92': ' float', 'Sensor - 93': ' float', 'Sensor - 94': ' float', 'Sensor - 95': ' float', 'Sensor - 96': ' float', 'Sensor - 97': ' float', 'Sensor - 98': ' float', 'Sensor - 99': ' float', 'Sensor - 100': ' float', 'Sensor - 101': ' float', 'Sensor - 102': ' float', 'Sensor - 103': ' float', 'Sensor - 104': ' float', 'Sensor - 105': ' float', 'Sensor - 106': ' float', 'Sensor - 107': ' float', 'Sensor - 108': ' float', 'Sensor - 109': ' float', 'Sensor - 110': ' float', 'Sensor - 111': ' float', 'Sensor - 112': ' float', 'Sensor - 113': ' float', 'Sensor - 114': ' float', 'Sensor - 115': ' float', 'Sensor - 116': ' float', 'Sensor - 117': ' float', 'Sensor - 118': ' float', 'Sensor - 119': ' float', 'Sensor - 120': ' float', 'Sensor - 121': ' float', 'Sensor - 122': ' float', 'Sensor - 123': ' float', 'Sensor - 124': ' float', 'Sensor - 125': ' float', 'Sensor - 126': ' float', 'Sensor - 127': ' float', 'Sensor - 128': ' float', 'Sensor - 129': ' float', 'Sensor - 130': ' float', 'Sensor - 131': ' float', 'Sensor - 132': ' float', 'Sensor - 133': ' float', 'Sensor - 134': ' float', 'Sensor - 135': ' float', 'Sensor - 136': ' float', 'Sensor - 137': ' float', 'Sensor - 138': ' float', 'Sensor - 139': ' float', 'Sensor - 140': ' float', 'Sensor - 141': ' float', 'Sensor - 142': ' float', 'Sensor - 143': ' float', 'Sensor - 144': ' float', 'Sensor - 145': ' float', 'Sensor - 146': ' float', 'Sensor - 147': ' float', 'Sensor - 148': ' float', 'Sensor - 149': ' float', 'Sensor - 150': ' float', 'Sensor - 151': ' float', 'Sensor - 152': ' float', 'Sensor - 153': ' float', 'Sensor - 154': ' float', 'Sensor - 155': ' float', 'Sensor - 156': ' float', 'Sensor - 157': ' float', 'Sensor - 158': ' float', 'Sensor - 159': ' float', 'Sensor - 160': ' float', 'Sensor - 161': ' float', 'Sensor - 162': ' float', 'Sensor - 163': ' float', 'Sensor - 164': ' float', 'Sensor - 165': ' float', 'Sensor - 166': ' float', 'Sensor - 167': ' float', 'Sensor - 168': ' float', 'Sensor - 169': ' float', 'Sensor - 170': ' float', 'Sensor - 171': ' float', 'Sensor - 172': ' float', 'Sensor - 173': ' float', 'Sensor - 174': ' float', 'Sensor - 175': ' float', 'Sensor - 176': ' float', 'Sensor - 177': ' float', 'Sensor - 178': ' float', 'Sensor - 179': ' float', 'Sensor - 180': ' float', 'Sensor - 181': ' float', 'Sensor - 182': ' float', 'Sensor - 183': ' float', 'Sensor - 184': ' float', 'Sensor - 185': ' float', 'Sensor - 186': ' float', 'Sensor - 187': ' float', 'Sensor - 188': ' float', 'Sensor - 189': ' float', 'Sensor - 190': ' float', 'Sensor - 191': ' float', 'Sensor - 192': ' float', 'Sensor - 193': ' float', 'Sensor - 194': ' float', 'Sensor - 195': ' float', 'Sensor - 196': ' float', 'Sensor - 197': ' float', 'Sensor - 198': ' float', 'Sensor - 199': ' float', 'Sensor - 200': ' float', 'Sensor - 201': ' float', 'Sensor - 202': ' float', 'Sensor - 203': ' float', 'Sensor - 204': ' float', 'Sensor - 205': ' float', 'Sensor - 206': ' float', 'Sensor - 207': ' float', 'Sensor - 208': ' float', 'Sensor - 209': ' float', 'Sensor - 210': ' float', 'Sensor - 211': ' float', 'Sensor - 212': ' float', 'Sensor - 213': ' float', 'Sensor - 214': ' float', 'Sensor - 215': ' float', 'Sensor - 216': ' float', 'Sensor - 217': ' float', 'Sensor - 218': ' float', 'Sensor - 219': ' float', 'Sensor - 220': ' float', 'Sensor - 221': ' float', 'Sensor - 222': ' float', 'Sensor - 223': ' float', 'Sensor - 224': ' float', 'Sensor - 225': ' float', 'Sensor - 226': ' float', 'Sensor - 227': ' float', 'Sensor - 228': ' float', 'Sensor - 229': ' float', 'Sensor - 230': ' float', 'Sensor - 231': ' float', 'Sensor - 232': ' float', 'Sensor - 233': ' float', 'Sensor - 234': ' float', 'Sensor - 235': ' float', 'Sensor - 236': ' float', 'Sensor - 237': ' float', 'Sensor - 238': ' float', 'Sensor - 239': ' float', 'Sensor - 240': ' float', 'Sensor - 241': ' float', 'Sensor - 242': ' float', 'Sensor - 243': ' float', 'Sensor - 244': ' float', 'Sensor - 245': ' float', 'Sensor - 246': ' float', 'Sensor - 247': ' float', 'Sensor - 248': ' float', 'Sensor - 249': ' float', 'Sensor - 250': ' float', 'Sensor - 251': ' float', 'Sensor - 252': ' float', 'Sensor - 253': ' float', 'Sensor - 254': ' float', 'Sensor - 255': ' float', 'Sensor - 256': ' float', 'Sensor - 257': ' float', 'Sensor - 258': ' float', 'Sensor - 259': ' float', 'Sensor - 260': ' float', 'Sensor - 261': ' float', 'Sensor - 262': ' float', 'Sensor - 263': ' float', 'Sensor - 264': ' float', 'Sensor - 265': ' float', 'Sensor - 266': ' float', 'Sensor - 267': ' float', 'Sensor - 268': ' float', 'Sensor - 269': ' float', 'Sensor - 270': ' float', 'Sensor - 271': ' float', 'Sensor - 272': ' float', 'Sensor - 273': ' float', 'Sensor - 274': ' float', 'Sensor - 275': ' float', 'Sensor - 276': ' float', 'Sensor - 277': ' float', 'Sensor - 278': ' float', 'Sensor - 279': ' float', 'Sensor - 280': ' float', 'Sensor - 281': ' float', 'Sensor - 282': ' float', 'Sensor - 283': ' float', 'Sensor - 284': ' float', 'Sensor - 285': ' float', 'Sensor - 286': ' float', 'Sensor - 287': ' float', 'Sensor - 288': ' float', 'Sensor - 289': ' float', 'Sensor - 290': ' float', 'Sensor - 291': ' float', 'Sensor - 292': ' float', 'Sensor - 293': ' float', 'Sensor - 294': ' float', 'Sensor - 295': ' float', 'Sensor - 296': ' float', 'Sensor - 297': ' float', 'Sensor - 298': ' float', 'Sensor - 299': ' float', 'Sensor - 300': ' float', 'Sensor - 301': ' float', 'Sensor - 302': ' float', 'Sensor - 303': ' float', 'Sensor - 304': ' float', 'Sensor - 305': ' float', 'Sensor - 306': ' float', 'Sensor - 307': ' float', 'Sensor - 308': ' float', 'Sensor - 309': ' float', 'Sensor - 310': ' float', 'Sensor - 311': ' float', 'Sensor - 312': ' float', 'Sensor - 313': ' float', 'Sensor - 314': ' float', 'Sensor - 315': ' float', 'Sensor - 316': ' float', 'Sensor - 317': ' float', 'Sensor - 318': ' float', 'Sensor - 319': ' float', 'Sensor - 320': ' float', 'Sensor - 321': ' float', 'Sensor - 322': ' float', 'Sensor - 323': ' float', 'Sensor - 324': ' float', 'Sensor - 325': ' float', 'Sensor - 326': ' float', 'Sensor - 327': ' float', 'Sensor - 328': ' float', 'Sensor - 329': ' float', 'Sensor - 330': ' float', 'Sensor - 331': ' float', 'Sensor - 332': ' float', 'Sensor - 333': ' float', 'Sensor - 334': ' float', 'Sensor - 335': ' float', 'Sensor - 336': ' float', 'Sensor - 337': ' float', 'Sensor - 338': ' float', 'Sensor - 339': ' float', 'Sensor - 340': ' float', 'Sensor - 341': ' float', 'Sensor - 342': ' float', 'Sensor - 343': ' float', 'Sensor - 344': ' float', 'Sensor - 345': ' float', 'Sensor - 346': ' float', 'Sensor - 347': ' float', 'Sensor - 348': ' float', 'Sensor - 349': ' float', 'Sensor - 350': ' float', 'Sensor - 351': ' float', 'Sensor - 352': ' float', 'Sensor - 353': ' float', 'Sensor - 354': ' float', 'Sensor - 355': ' float', 'Sensor - 356': ' float', 'Sensor - 357': ' float', 'Sensor - 358': ' float', 'Sensor - 359': ' float', 'Sensor - 360': ' float', 'Sensor - 361': ' float', 'Sensor - 362': ' float', 'Sensor - 363': ' float', 'Sensor - 364': ' float', 'Sensor - 365': ' float', 'Sensor - 366': ' float', 'Sensor - 367': ' float', 'Sensor - 368': ' float', 'Sensor - 369': ' float', 'Sensor - 370': ' float', 'Sensor - 371': ' float', 'Sensor - 372': ' float', 'Sensor - 373': ' float', 'Sensor - 374': ' float', 'Sensor - 375': ' float', 'Sensor - 376': ' float', 'Sensor - 377': ' float', 'Sensor - 378': ' float', 'Sensor - 379': ' float', 'Sensor - 380': ' float', 'Sensor - 381': ' float', 'Sensor - 382': ' float', 'Sensor - 383': ' float', 'Sensor - 384': ' float', 'Sensor - 385': ' float', 'Sensor - 386': ' float', 'Sensor - 387': ' float', 'Sensor - 388': ' float', 'Sensor - 389': ' float', 'Sensor - 390': ' float', 'Sensor - 391': ' float', 'Sensor - 392': ' float', 'Sensor - 393': ' float', 'Sensor - 394': ' float', 'Sensor - 395': ' float', 'Sensor - 396': ' float', 'Sensor - 397': ' float', 'Sensor - 398': ' float', 'Sensor - 399': ' float', 'Sensor - 400': ' float', 'Sensor - 401': ' float', 'Sensor - 402': ' float', 'Sensor - 403': ' float', 'Sensor - 404': ' float', 'Sensor - 405': ' float', 'Sensor - 406': ' float', 'Sensor - 407': ' float', 'Sensor - 408': ' float', 'Sensor - 409': ' float', 'Sensor - 410': ' float', 'Sensor - 411': ' float', 'Sensor - 412': ' float', 'Sensor - 413': ' float', 'Sensor - 414': ' float', 'Sensor - 415': ' float', 'Sensor - 416': ' float', 'Sensor - 417': ' float', 'Sensor - 418': ' float', 'Sensor - 419': ' float', 'Sensor - 420': ' float', 'Sensor - 421': ' float', 'Sensor - 422': ' float', 'Sensor - 423': ' float', 'Sensor - 424': ' float', 'Sensor - 425': ' float', 'Sensor - 426': ' float', 'Sensor - 427': ' float', 'Sensor - 428': ' float', 'Sensor - 429': ' float', 'Sensor - 430': ' float', 'Sensor - 431': ' float', 'Sensor - 432': ' float', 'Sensor - 433': ' float', 'Sensor - 434': ' float', 'Sensor - 435': ' float', 'Sensor - 436': ' float', 'Sensor - 437': ' float', 'Sensor - 438': ' float', 'Sensor - 439': ' float', 'Sensor - 440': ' float', 'Sensor - 441': ' float', 'Sensor - 442': ' float', 'Sensor - 443': ' float', 'Sensor - 444': ' float', 'Sensor - 445': ' float', 'Sensor - 446': ' float', 'Sensor - 447': ' float', 'Sensor - 448': ' float', 'Sensor - 449': ' float', 'Sensor - 450': ' float', 'Sensor - 451': ' float', 'Sensor - 452': ' float', 'Sensor - 453': ' float', 'Sensor - 454': ' float', 'Sensor - 455': ' float', 'Sensor - 456': ' float', 'Sensor - 457': ' float', 'Sensor - 458': ' float', 'Sensor - 459': ' float', 'Sensor - 460': ' float', 'Sensor - 461': ' float', 'Sensor - 462': ' float', 'Sensor - 463': ' float', 'Sensor - 464': ' float', 'Sensor - 465': ' float', 'Sensor - 466': ' float', 'Sensor - 467': ' float', 'Sensor - 468': ' float', 'Sensor - 469': ' float', 'Sensor - 470': ' float', 'Sensor - 471': ' float', 'Sensor - 472': ' float', 'Sensor - 473': ' float', 'Sensor - 474': ' float', 'Sensor - 475': ' float', 'Sensor - 476': ' float', 'Sensor - 477': ' float', 'Sensor - 478': ' float', 'Sensor - 479': ' float', 'Sensor - 480': ' float', 'Sensor - 481': ' float', 'Sensor - 482': ' float', 'Sensor - 483': ' float', 'Sensor - 484': ' float', 'Sensor - 485': ' float', 'Sensor - 486': ' float', 'Sensor - 487': ' float', 'Sensor - 488': ' float', 'Sensor - 489': ' float', 'Sensor - 490': ' float', 'Sensor - 491': ' float', 'Sensor - 492': ' float', 'Sensor - 493': ' float', 'Sensor - 494': ' float', 'Sensor - 495': ' float', 'Sensor - 496': ' float', 'Sensor - 497': ' float', 'Sensor - 498': ' float', 'Sensor - 499': ' float', 'Sensor - 500': ' float', 'Sensor - 501': ' float', 'Sensor - 502': ' float', 'Sensor - 503': ' float', 'Sensor - 504': ' float', 'Sensor - 505': ' float', 'Sensor - 506': ' float', 'Sensor - 507': ' float', 'Sensor - 508': ' float', 'Sensor - 509': ' float', 'Sensor - 510': ' float', 'Sensor - 511': ' float', 'Sensor - 512': ' float', 'Sensor - 513': ' float', 'Sensor - 514': ' float', 'Sensor - 515': ' float', 'Sensor - 516': ' float', 'Sensor - 517': ' float', 'Sensor - 518': ' float', 'Sensor - 519': ' float', 'Sensor - 520': ' float', 'Sensor - 521': ' float', 'Sensor - 522': ' float', 'Sensor - 523': ' float', 'Sensor - 524': ' float', 'Sensor - 525': ' float', 'Sensor - 526': ' float', 'Sensor - 527': ' float', 'Sensor - 528': ' float', 'Sensor - 529': ' float', 'Sensor - 530': ' float', 'Sensor - 531': ' float', 'Sensor - 532': ' float', 'Sensor - 533': ' float', 'Sensor - 534': ' float', 'Sensor - 535': ' float', 'Sensor - 536': ' float', 'Sensor - 537': ' float', 'Sensor - 538': ' float', 'Sensor - 539': ' float', 'Sensor - 540': ' float', 'Sensor - 541': ' float', 'Sensor - 542': ' float', 'Sensor - 543': ' float', 'Sensor - 544': ' float', 'Sensor - 545': ' float', 'Sensor - 546': ' float', 'Sensor - 547': ' float', 'Sensor - 548': ' float', 'Sensor - 549': ' float', 'Sensor - 550': ' float', 'Sensor - 551': ' float', 'Sensor - 552': ' float', 'Sensor - 553': ' float', 'Sensor - 554': ' float', 'Sensor - 555': ' float', 'Sensor - 556': ' float', 'Sensor - 557': ' float', 'Sensor - 558': ' float', 'Sensor - 559': ' float', 'Sensor - 560': ' float', 'Sensor - 561': ' float', 'Sensor - 562': ' float', 'Sensor - 563': ' float', 'Sensor - 564': ' float', 'Sensor - 565': ' float', 'Sensor - 566': ' float', 'Sensor - 567': ' float', 'Sensor - 568': ' float', 'Sensor - 569': ' float', 'Sensor - 570': ' float', 'Sensor - 571': ' float', 'Sensor - 572': ' float', 'Sensor - 573': ' float', 'Sensor - 574': ' float', 'Sensor - 575': ' float', 'Sensor - 576': ' float', 'Sensor - 577': ' float', 'Sensor - 578': ' float', 'Sensor - 579': ' float', 'Sensor - 580': ' float', 'Sensor - 581': ' float', 'Sensor - 582': ' float', 'Sensor - 583': ' float', 'Sensor - 584': ' float', 'Sensor - 585': ' float', 'Sensor - 586': ' float', 'Sensor - 587': ' float', 'Sensor - 588': ' float', 'Sensor - 589': ' float', 'Sensor - 590': ' float', 'Output': 'Integer'}}\n"
     ]
    }
   ],
   "source": [
    "print(data)"
   ]
  },
  {
   "cell_type": "code",
   "execution_count": null,
   "id": "0adefc86",
   "metadata": {},
   "outputs": [],
   "source": []
  },
  {
   "cell_type": "code",
   "execution_count": null,
   "id": "34161469",
   "metadata": {},
   "outputs": [],
   "source": []
  },
  {
   "cell_type": "code",
   "execution_count": null,
   "id": "58a88062",
   "metadata": {},
   "outputs": [],
   "source": []
  },
  {
   "cell_type": "code",
   "execution_count": null,
   "id": "639aef19",
   "metadata": {},
   "outputs": [],
   "source": []
  },
  {
   "cell_type": "code",
   "execution_count": 27,
   "id": "aab92fd5",
   "metadata": {},
   "outputs": [],
   "source": [
    "LengthOfTimeStampInFile = 3\n",
    "NumberofColumns = 2\n",
    "LengthOfDateStampInFile = 22"
   ]
  },
  {
   "cell_type": "code",
   "execution_count": 31,
   "id": "8d4be177",
   "metadata": {},
   "outputs": [],
   "source": [
    "message =\"LengthOfDateStampInFile:: %s\" %LengthOfDateStampInFile + \"\\t\" + \"LengthOfTimeStampInFile:: %s\" % LengthOfTimeStampInFile +\"\\t \" + \"NumberofColumns:: %s\" % NumberofColumns + \"\\n\""
   ]
  },
  {
   "cell_type": "code",
   "execution_count": 32,
   "id": "ed6ddd43",
   "metadata": {},
   "outputs": [
    {
     "data": {
      "text/plain": [
       "'LengthOfDateStampInFile:: 22\\tLengthOfTimeStampInFile:: 3\\t NumberofColumns:: 2\\n'"
      ]
     },
     "execution_count": 32,
     "metadata": {},
     "output_type": "execute_result"
    }
   ],
   "source": [
    "message"
   ]
  },
  {
   "cell_type": "code",
   "execution_count": 33,
   "id": "b7441c73",
   "metadata": {},
   "outputs": [
    {
     "name": "stdout",
     "output_type": "stream",
     "text": [
      "LengthOfDateStampInFile:: 22\tLengthOfTimeStampInFile:: 3\t NumberofColumns:: 2\n",
      "\n"
     ]
    }
   ],
   "source": [
    "print(message)"
   ]
  },
  {
   "cell_type": "code",
   "execution_count": null,
   "id": "deda523f",
   "metadata": {},
   "outputs": [],
   "source": []
  },
  {
   "cell_type": "code",
   "execution_count": null,
   "id": "7d13f64c",
   "metadata": {},
   "outputs": [],
   "source": []
  },
  {
   "cell_type": "code",
   "execution_count": null,
   "id": "f319454f",
   "metadata": {},
   "outputs": [],
   "source": []
  },
  {
   "cell_type": "code",
   "execution_count": 35,
   "id": "2093715b",
   "metadata": {},
   "outputs": [],
   "source": [
    "filename = \"wafer_576_3536\""
   ]
  },
  {
   "cell_type": "code",
   "execution_count": 34,
   "id": "7df8819d",
   "metadata": {},
   "outputs": [],
   "source": [
    "import re"
   ]
  },
  {
   "cell_type": "code",
   "execution_count": 36,
   "id": "19a826bc",
   "metadata": {},
   "outputs": [
    {
     "data": {
      "text/plain": [
       "['wafer', '576', '3536']"
      ]
     },
     "execution_count": 36,
     "metadata": {},
     "output_type": "execute_result"
    }
   ],
   "source": [
    "re.split(\"_\",filename)"
   ]
  },
  {
   "cell_type": "code",
   "execution_count": 37,
   "id": "4a162893",
   "metadata": {},
   "outputs": [],
   "source": [
    "filename = \"wafer_576_3536.csv\""
   ]
  },
  {
   "cell_type": "code",
   "execution_count": 38,
   "id": "0b307fb1",
   "metadata": {},
   "outputs": [
    {
     "data": {
      "text/plain": [
       "['wafer_576_3536', '']"
      ]
     },
     "execution_count": 38,
     "metadata": {},
     "output_type": "execute_result"
    }
   ],
   "source": [
    "re.split(\".csv\",filename)"
   ]
  },
  {
   "cell_type": "code",
   "execution_count": 41,
   "id": "75a1c120",
   "metadata": {},
   "outputs": [],
   "source": [
    "filename = \"hello.hi.bro\""
   ]
  },
  {
   "cell_type": "code",
   "execution_count": 42,
   "id": "c11c1404",
   "metadata": {},
   "outputs": [
    {
     "data": {
      "text/plain": [
       "['', '', '', '', '', '', '', '', '', '', '', '', '']"
      ]
     },
     "execution_count": 42,
     "metadata": {},
     "output_type": "execute_result"
    }
   ],
   "source": [
    "re.split(\".\",filename)"
   ]
  },
  {
   "cell_type": "code",
   "execution_count": null,
   "id": "4fc77743",
   "metadata": {},
   "outputs": [],
   "source": []
  },
  {
   "cell_type": "code",
   "execution_count": null,
   "id": "c3ababd8",
   "metadata": {},
   "outputs": [],
   "source": []
  },
  {
   "cell_type": "code",
   "execution_count": null,
   "id": "d762eb96",
   "metadata": {},
   "outputs": [],
   "source": []
  },
  {
   "cell_type": "code",
   "execution_count": null,
   "id": "271f3a99",
   "metadata": {},
   "outputs": [],
   "source": []
  },
  {
   "cell_type": "code",
   "execution_count": null,
   "id": "7f0467e8",
   "metadata": {},
   "outputs": [],
   "source": []
  },
  {
   "cell_type": "code",
   "execution_count": 44,
   "id": "d16f504e",
   "metadata": {},
   "outputs": [],
   "source": [
    "import pandas as pd"
   ]
  },
  {
   "cell_type": "code",
   "execution_count": 61,
   "id": "16a05a8f",
   "metadata": {},
   "outputs": [
    {
     "ename": "NameError",
     "evalue": "name 'NaN' is not defined",
     "output_type": "error",
     "traceback": [
      "\u001b[1;31m---------------------------------------------------------------------------\u001b[0m",
      "\u001b[1;31mNameError\u001b[0m                                 Traceback (most recent call last)",
      "Input \u001b[1;32mIn [61]\u001b[0m, in \u001b[0;36m<cell line: 1>\u001b[1;34m()\u001b[0m\n\u001b[1;32m----> 1\u001b[0m my_dict \u001b[38;5;241m=\u001b[39m { \u001b[43mNaN\u001b[49m  : [\u001b[38;5;124m'\u001b[39m\u001b[38;5;124mJohn\u001b[39m\u001b[38;5;124m'\u001b[39m, \u001b[38;5;124m'\u001b[39m\u001b[38;5;124mMike\u001b[39m\u001b[38;5;124m'\u001b[39m, \u001b[38;5;124m'\u001b[39m\u001b[38;5;124mSarah\u001b[39m\u001b[38;5;124m'\u001b[39m],\n\u001b[0;32m      2\u001b[0m            \u001b[38;5;124m'\u001b[39m\u001b[38;5;124mage\u001b[39m\u001b[38;5;124m'\u001b[39m: [\u001b[38;5;241m25\u001b[39m, \u001b[38;5;241m30\u001b[39m, \u001b[38;5;241m27\u001b[39m],\n\u001b[0;32m      3\u001b[0m            \u001b[38;5;124m'\u001b[39m\u001b[38;5;124mcity\u001b[39m\u001b[38;5;124m'\u001b[39m: [\u001b[38;5;124m'\u001b[39m\u001b[38;5;124mNew York\u001b[39m\u001b[38;5;124m'\u001b[39m, \u001b[38;5;124m'\u001b[39m\u001b[38;5;124mChicago\u001b[39m\u001b[38;5;124m'\u001b[39m, \u001b[38;5;124m'\u001b[39m\u001b[38;5;124mLos Angeles\u001b[39m\u001b[38;5;124m'\u001b[39m]}\n",
      "\u001b[1;31mNameError\u001b[0m: name 'NaN' is not defined"
     ]
    }
   ],
   "source": [
    "my_dict = { NaN  : ['John', 'Mike', 'Sarah'],\n",
    "           'age': [25, 30, 27],\n",
    "           'city': ['New York', 'Chicago', 'Los Angeles']}"
   ]
  },
  {
   "cell_type": "code",
   "execution_count": 60,
   "id": "f3db30ba",
   "metadata": {},
   "outputs": [
    {
     "data": {
      "text/html": [
       "<div>\n",
       "<style scoped>\n",
       "    .dataframe tbody tr th:only-of-type {\n",
       "        vertical-align: middle;\n",
       "    }\n",
       "\n",
       "    .dataframe tbody tr th {\n",
       "        vertical-align: top;\n",
       "    }\n",
       "\n",
       "    .dataframe thead th {\n",
       "        text-align: right;\n",
       "    }\n",
       "</style>\n",
       "<table border=\"1\" class=\"dataframe\">\n",
       "  <thead>\n",
       "    <tr style=\"text-align: right;\">\n",
       "      <th></th>\n",
       "      <th>None</th>\n",
       "      <th>age</th>\n",
       "      <th>city</th>\n",
       "    </tr>\n",
       "  </thead>\n",
       "  <tbody>\n",
       "    <tr>\n",
       "      <th>0</th>\n",
       "      <td>John</td>\n",
       "      <td>25</td>\n",
       "      <td>New York</td>\n",
       "    </tr>\n",
       "    <tr>\n",
       "      <th>1</th>\n",
       "      <td>Mike</td>\n",
       "      <td>30</td>\n",
       "      <td>Chicago</td>\n",
       "    </tr>\n",
       "    <tr>\n",
       "      <th>2</th>\n",
       "      <td>Sarah</td>\n",
       "      <td>27</td>\n",
       "      <td>Los Angeles</td>\n",
       "    </tr>\n",
       "  </tbody>\n",
       "</table>\n",
       "</div>"
      ],
      "text/plain": [
       "    None  age         city\n",
       "0   John   25     New York\n",
       "1   Mike   30      Chicago\n",
       "2  Sarah   27  Los Angeles"
      ]
     },
     "execution_count": 60,
     "metadata": {},
     "output_type": "execute_result"
    }
   ],
   "source": [
    "pd.DataFrame(my_dict)"
   ]
  },
  {
   "cell_type": "code",
   "execution_count": 62,
   "id": "bbdcd048",
   "metadata": {},
   "outputs": [
    {
     "name": "stdout",
     "output_type": "stream",
     "text": [
      "    name  age         city  salary      None\n",
      "0   John   25     New York   50000      golf\n",
      "1   Mike   30      Chicago   60000   reading\n",
      "2  Sarah   27  Los Angeles   70000  swimming\n"
     ]
    }
   ],
   "source": [
    "import pandas as pd\n",
    "\n",
    "# example dictionary with a column to remove the name of\n",
    "my_dict = {'name': ['John', 'Mike', 'Sarah'],\n",
    "           'age': [25, 30, 27],\n",
    "           'city': ['New York', 'Chicago', 'Los Angeles'],\n",
    "           'salary': [50000, 60000, 70000],\n",
    "           'hobby': ['golf', 'reading', 'swimming']}\n",
    "\n",
    "# remove the column name and store its values in a separate list\n",
    "hobby_values = my_dict.pop('hobby')\n",
    "\n",
    "# create the dataframe with the column name set to None\n",
    "df = pd.DataFrame(my_dict)\n",
    "df[None] = hobby_values\n",
    "\n",
    "# print the resulting dataframe\n",
    "print(df)\n"
   ]
  },
  {
   "cell_type": "code",
   "execution_count": 67,
   "id": "465f4c07",
   "metadata": {},
   "outputs": [
    {
     "data": {
      "text/html": [
       "<div>\n",
       "<style scoped>\n",
       "    .dataframe tbody tr th:only-of-type {\n",
       "        vertical-align: middle;\n",
       "    }\n",
       "\n",
       "    .dataframe tbody tr th {\n",
       "        vertical-align: top;\n",
       "    }\n",
       "\n",
       "    .dataframe thead th {\n",
       "        text-align: right;\n",
       "    }\n",
       "</style>\n",
       "<table border=\"1\" class=\"dataframe\">\n",
       "  <thead>\n",
       "    <tr style=\"text-align: right;\">\n",
       "      <th></th>\n",
       "      <th>name</th>\n",
       "      <th>age</th>\n",
       "      <th>city</th>\n",
       "      <th>salary</th>\n",
       "      <th>None</th>\n",
       "    </tr>\n",
       "  </thead>\n",
       "  <tbody>\n",
       "    <tr>\n",
       "      <th>0</th>\n",
       "      <td>John</td>\n",
       "      <td>25</td>\n",
       "      <td>New York</td>\n",
       "      <td>50000</td>\n",
       "      <td>golf</td>\n",
       "    </tr>\n",
       "    <tr>\n",
       "      <th>1</th>\n",
       "      <td>Mike</td>\n",
       "      <td>30</td>\n",
       "      <td>Chicago</td>\n",
       "      <td>60000</td>\n",
       "      <td>reading</td>\n",
       "    </tr>\n",
       "    <tr>\n",
       "      <th>2</th>\n",
       "      <td>Sarah</td>\n",
       "      <td>27</td>\n",
       "      <td>Los Angeles</td>\n",
       "      <td>70000</td>\n",
       "      <td>swimming</td>\n",
       "    </tr>\n",
       "  </tbody>\n",
       "</table>\n",
       "</div>"
      ],
      "text/plain": [
       "    name  age         city  salary      None\n",
       "0   John   25     New York   50000      golf\n",
       "1   Mike   30      Chicago   60000   reading\n",
       "2  Sarah   27  Los Angeles   70000  swimming"
      ]
     },
     "execution_count": 67,
     "metadata": {},
     "output_type": "execute_result"
    }
   ],
   "source": [
    "df"
   ]
  },
  {
   "cell_type": "code",
   "execution_count": 63,
   "id": "3b4254fb",
   "metadata": {},
   "outputs": [
    {
     "data": {
      "text/plain": [
       "Index(['name', 'age', 'city', 'salary', None], dtype='object')"
      ]
     },
     "execution_count": 63,
     "metadata": {},
     "output_type": "execute_result"
    }
   ],
   "source": [
    "df.columns"
   ]
  },
  {
   "cell_type": "code",
   "execution_count": 66,
   "id": "a0a930f1",
   "metadata": {},
   "outputs": [
    {
     "data": {
      "text/plain": [
       "5"
      ]
     },
     "execution_count": 66,
     "metadata": {},
     "output_type": "execute_result"
    }
   ],
   "source": [
    "len(df.columns)"
   ]
  },
  {
   "cell_type": "code",
   "execution_count": 65,
   "id": "e99b54a7",
   "metadata": {},
   "outputs": [],
   "source": [
    "df.to_csv('my_dataframe.csv', index=False)"
   ]
  },
  {
   "cell_type": "code",
   "execution_count": null,
   "id": "7301897d",
   "metadata": {},
   "outputs": [],
   "source": []
  },
  {
   "cell_type": "code",
   "execution_count": 68,
   "id": "c846a9eb",
   "metadata": {},
   "outputs": [
    {
     "data": {
      "text/html": [
       "<div>\n",
       "<style scoped>\n",
       "    .dataframe tbody tr th:only-of-type {\n",
       "        vertical-align: middle;\n",
       "    }\n",
       "\n",
       "    .dataframe tbody tr th {\n",
       "        vertical-align: top;\n",
       "    }\n",
       "\n",
       "    .dataframe thead th {\n",
       "        text-align: right;\n",
       "    }\n",
       "</style>\n",
       "<table border=\"1\" class=\"dataframe\">\n",
       "  <thead>\n",
       "    <tr style=\"text-align: right;\">\n",
       "      <th></th>\n",
       "      <th>name</th>\n",
       "      <th>age</th>\n",
       "      <th>city</th>\n",
       "      <th>salary</th>\n",
       "      <th>None</th>\n",
       "    </tr>\n",
       "  </thead>\n",
       "  <tbody>\n",
       "    <tr>\n",
       "      <th>0</th>\n",
       "      <td>John</td>\n",
       "      <td>25</td>\n",
       "      <td>New York</td>\n",
       "      <td>50000</td>\n",
       "      <td>golf</td>\n",
       "    </tr>\n",
       "    <tr>\n",
       "      <th>1</th>\n",
       "      <td>Mike</td>\n",
       "      <td>30</td>\n",
       "      <td>Chicago</td>\n",
       "      <td>60000</td>\n",
       "      <td>reading</td>\n",
       "    </tr>\n",
       "    <tr>\n",
       "      <th>2</th>\n",
       "      <td>Sarah</td>\n",
       "      <td>27</td>\n",
       "      <td>Los Angeles</td>\n",
       "      <td>70000</td>\n",
       "      <td>swimming</td>\n",
       "    </tr>\n",
       "  </tbody>\n",
       "</table>\n",
       "</div>"
      ],
      "text/plain": [
       "    name  age         city  salary      None\n",
       "0   John   25     New York   50000      golf\n",
       "1   Mike   30      Chicago   60000   reading\n",
       "2  Sarah   27  Los Angeles   70000  swimming"
      ]
     },
     "execution_count": 68,
     "metadata": {},
     "output_type": "execute_result"
    }
   ],
   "source": [
    "df"
   ]
  },
  {
   "cell_type": "code",
   "execution_count": 69,
   "id": "b1129cc4",
   "metadata": {},
   "outputs": [
    {
     "name": "stdout",
     "output_type": "stream",
     "text": [
      "name\n",
      "age\n",
      "city\n",
      "salary\n",
      "None\n"
     ]
    }
   ],
   "source": [
    "for col in df:\n",
    "    print(col)"
   ]
  },
  {
   "cell_type": "code",
   "execution_count": null,
   "id": "a653fc1f",
   "metadata": {},
   "outputs": [],
   "source": []
  },
  {
   "cell_type": "code",
   "execution_count": null,
   "id": "df0c2f35",
   "metadata": {},
   "outputs": [],
   "source": []
  },
  {
   "cell_type": "code",
   "execution_count": null,
   "id": "99f399c6",
   "metadata": {},
   "outputs": [],
   "source": []
  },
  {
   "cell_type": "code",
   "execution_count": null,
   "id": "393cd1f3",
   "metadata": {},
   "outputs": [],
   "source": []
  },
  {
   "cell_type": "code",
   "execution_count": 74,
   "id": "0571b6b0",
   "metadata": {},
   "outputs": [],
   "source": [
    "my_dict = { 'name'  : ['John', 'Mike', 'Sarah'],\n",
    "           'age': [25, 30, 27],\n",
    "           'city': ['New York', 'Chicago',None]}"
   ]
  },
  {
   "cell_type": "code",
   "execution_count": 76,
   "id": "d6262b4f",
   "metadata": {},
   "outputs": [],
   "source": [
    "df=pd.DataFrame(my_dict)"
   ]
  },
  {
   "cell_type": "code",
   "execution_count": 80,
   "id": "330d307a",
   "metadata": {},
   "outputs": [
    {
     "data": {
      "text/html": [
       "<div>\n",
       "<style scoped>\n",
       "    .dataframe tbody tr th:only-of-type {\n",
       "        vertical-align: middle;\n",
       "    }\n",
       "\n",
       "    .dataframe tbody tr th {\n",
       "        vertical-align: top;\n",
       "    }\n",
       "\n",
       "    .dataframe thead th {\n",
       "        text-align: right;\n",
       "    }\n",
       "</style>\n",
       "<table border=\"1\" class=\"dataframe\">\n",
       "  <thead>\n",
       "    <tr style=\"text-align: right;\">\n",
       "      <th></th>\n",
       "      <th>name</th>\n",
       "      <th>age</th>\n",
       "      <th>city</th>\n",
       "    </tr>\n",
       "  </thead>\n",
       "  <tbody>\n",
       "    <tr>\n",
       "      <th>0</th>\n",
       "      <td>John</td>\n",
       "      <td>25</td>\n",
       "      <td>New York</td>\n",
       "    </tr>\n",
       "    <tr>\n",
       "      <th>1</th>\n",
       "      <td>Mike</td>\n",
       "      <td>30</td>\n",
       "      <td>Chicago</td>\n",
       "    </tr>\n",
       "    <tr>\n",
       "      <th>2</th>\n",
       "      <td>Sarah</td>\n",
       "      <td>27</td>\n",
       "      <td>None</td>\n",
       "    </tr>\n",
       "  </tbody>\n",
       "</table>\n",
       "</div>"
      ],
      "text/plain": [
       "    name  age      city\n",
       "0   John   25  New York\n",
       "1   Mike   30   Chicago\n",
       "2  Sarah   27      None"
      ]
     },
     "execution_count": 80,
     "metadata": {},
     "output_type": "execute_result"
    }
   ],
   "source": [
    "df"
   ]
  },
  {
   "cell_type": "code",
   "execution_count": 81,
   "id": "8f4f5fac",
   "metadata": {},
   "outputs": [
    {
     "data": {
      "text/plain": [
       "New York    1\n",
       "Chicago     1\n",
       "Name: city, dtype: int64"
      ]
     },
     "execution_count": 81,
     "metadata": {},
     "output_type": "execute_result"
    }
   ],
   "source": [
    "df['city'].value_counts()"
   ]
  },
  {
   "cell_type": "code",
   "execution_count": 82,
   "id": "f24b8a2a",
   "metadata": {},
   "outputs": [
    {
     "data": {
      "text/plain": [
       "3"
      ]
     },
     "execution_count": 82,
     "metadata": {},
     "output_type": "execute_result"
    }
   ],
   "source": [
    "len(df['city'])"
   ]
  },
  {
   "cell_type": "code",
   "execution_count": 83,
   "id": "4199951a",
   "metadata": {},
   "outputs": [
    {
     "data": {
      "text/plain": [
       "2"
      ]
     },
     "execution_count": 83,
     "metadata": {},
     "output_type": "execute_result"
    }
   ],
   "source": [
    "df['city'].count()"
   ]
  },
  {
   "cell_type": "code",
   "execution_count": 84,
   "id": "ca5f4afc",
   "metadata": {},
   "outputs": [
    {
     "data": {
      "text/html": [
       "<div>\n",
       "<style scoped>\n",
       "    .dataframe tbody tr th:only-of-type {\n",
       "        vertical-align: middle;\n",
       "    }\n",
       "\n",
       "    .dataframe tbody tr th {\n",
       "        vertical-align: top;\n",
       "    }\n",
       "\n",
       "    .dataframe thead th {\n",
       "        text-align: right;\n",
       "    }\n",
       "</style>\n",
       "<table border=\"1\" class=\"dataframe\">\n",
       "  <thead>\n",
       "    <tr style=\"text-align: right;\">\n",
       "      <th></th>\n",
       "      <th>name</th>\n",
       "      <th>age</th>\n",
       "      <th>city</th>\n",
       "    </tr>\n",
       "  </thead>\n",
       "  <tbody>\n",
       "    <tr>\n",
       "      <th>0</th>\n",
       "      <td>John</td>\n",
       "      <td>25</td>\n",
       "      <td>New York</td>\n",
       "    </tr>\n",
       "    <tr>\n",
       "      <th>1</th>\n",
       "      <td>Mike</td>\n",
       "      <td>30</td>\n",
       "      <td>Chicago</td>\n",
       "    </tr>\n",
       "    <tr>\n",
       "      <th>2</th>\n",
       "      <td>Sarah</td>\n",
       "      <td>27</td>\n",
       "      <td>None</td>\n",
       "    </tr>\n",
       "  </tbody>\n",
       "</table>\n",
       "</div>"
      ],
      "text/plain": [
       "    name  age      city\n",
       "0   John   25  New York\n",
       "1   Mike   30   Chicago\n",
       "2  Sarah   27      None"
      ]
     },
     "execution_count": 84,
     "metadata": {},
     "output_type": "execute_result"
    }
   ],
   "source": [
    "df"
   ]
  },
  {
   "cell_type": "code",
   "execution_count": 87,
   "id": "c83b7269",
   "metadata": {},
   "outputs": [
    {
     "data": {
      "text/plain": [
       "0     hn\n",
       "1     ke\n",
       "2    rah\n",
       "Name: name, dtype: object"
      ]
     },
     "execution_count": 87,
     "metadata": {},
     "output_type": "execute_result"
    }
   ],
   "source": [
    "df['name'].str[2:]"
   ]
  },
  {
   "cell_type": "code",
   "execution_count": null,
   "id": "2338676e",
   "metadata": {},
   "outputs": [],
   "source": []
  },
  {
   "cell_type": "code",
   "execution_count": null,
   "id": "347d49a8",
   "metadata": {},
   "outputs": [],
   "source": []
  },
  {
   "cell_type": "code",
   "execution_count": null,
   "id": "8facbf7d",
   "metadata": {},
   "outputs": [],
   "source": []
  },
  {
   "cell_type": "code",
   "execution_count": null,
   "id": "baa68620",
   "metadata": {},
   "outputs": [],
   "source": []
  },
  {
   "cell_type": "code",
   "execution_count": null,
   "id": "7a75ed73",
   "metadata": {},
   "outputs": [],
   "source": []
  },
  {
   "cell_type": "code",
   "execution_count": 89,
   "id": "c99f38c8",
   "metadata": {},
   "outputs": [],
   "source": [
    "df= pd.read_csv(r\"C:\\Users\\user\\Desktop\\real_ml_projects\\Wafar_fault_detection\\waferFaultDetection\\code\\WaferFaultDetection_new\\Training_Batch_Files\\Wafer_12012020_111213.csv\")"
   ]
  },
  {
   "cell_type": "code",
   "execution_count": 90,
   "id": "0122c56f",
   "metadata": {},
   "outputs": [
    {
     "data": {
      "text/html": [
       "<div>\n",
       "<style scoped>\n",
       "    .dataframe tbody tr th:only-of-type {\n",
       "        vertical-align: middle;\n",
       "    }\n",
       "\n",
       "    .dataframe tbody tr th {\n",
       "        vertical-align: top;\n",
       "    }\n",
       "\n",
       "    .dataframe thead th {\n",
       "        text-align: right;\n",
       "    }\n",
       "</style>\n",
       "<table border=\"1\" class=\"dataframe\">\n",
       "  <thead>\n",
       "    <tr style=\"text-align: right;\">\n",
       "      <th></th>\n",
       "      <th>Unnamed: 0</th>\n",
       "      <th>Sensor-1</th>\n",
       "      <th>Sensor-2</th>\n",
       "      <th>Sensor-3</th>\n",
       "      <th>Sensor-4</th>\n",
       "      <th>Sensor-5</th>\n",
       "      <th>Sensor-6</th>\n",
       "      <th>Sensor-7</th>\n",
       "      <th>Sensor-8</th>\n",
       "      <th>Sensor-9</th>\n",
       "      <th>...</th>\n",
       "      <th>Sensor-581</th>\n",
       "      <th>Sensor-582</th>\n",
       "      <th>Sensor-583</th>\n",
       "      <th>Sensor-584</th>\n",
       "      <th>Sensor-585</th>\n",
       "      <th>Sensor-586</th>\n",
       "      <th>Sensor-587</th>\n",
       "      <th>Sensor-588</th>\n",
       "      <th>Sensor-589</th>\n",
       "      <th>Sensor-590</th>\n",
       "    </tr>\n",
       "  </thead>\n",
       "  <tbody>\n",
       "    <tr>\n",
       "      <th>0</th>\n",
       "      <td>Wafer-200</td>\n",
       "      <td>3006.22</td>\n",
       "      <td>2257.81</td>\n",
       "      <td>2185.9333</td>\n",
       "      <td>1659.6962</td>\n",
       "      <td>1.6290</td>\n",
       "      <td>100</td>\n",
       "      <td>98.6822</td>\n",
       "      <td>0.1227</td>\n",
       "      <td>1.4557</td>\n",
       "      <td>...</td>\n",
       "      <td>NaN</td>\n",
       "      <td>NaN</td>\n",
       "      <td>0.4978</td>\n",
       "      <td>0.0154</td>\n",
       "      <td>0.0038</td>\n",
       "      <td>3.0850</td>\n",
       "      <td>0.0131</td>\n",
       "      <td>0.0129</td>\n",
       "      <td>0.0052</td>\n",
       "      <td>98.1126</td>\n",
       "    </tr>\n",
       "    <tr>\n",
       "      <th>1</th>\n",
       "      <td>Wafer-201</td>\n",
       "      <td>3088.73</td>\n",
       "      <td>2378.95</td>\n",
       "      <td>2185.9333</td>\n",
       "      <td>1659.6962</td>\n",
       "      <td>1.6290</td>\n",
       "      <td>100</td>\n",
       "      <td>98.6822</td>\n",
       "      <td>0.1227</td>\n",
       "      <td>1.3731</td>\n",
       "      <td>...</td>\n",
       "      <td>NaN</td>\n",
       "      <td>NaN</td>\n",
       "      <td>0.4990</td>\n",
       "      <td>0.0130</td>\n",
       "      <td>0.0030</td>\n",
       "      <td>2.6037</td>\n",
       "      <td>0.0131</td>\n",
       "      <td>0.0129</td>\n",
       "      <td>0.0052</td>\n",
       "      <td>98.1126</td>\n",
       "    </tr>\n",
       "    <tr>\n",
       "      <th>2</th>\n",
       "      <td>Wafer-202</td>\n",
       "      <td>2940.65</td>\n",
       "      <td>NaN</td>\n",
       "      <td>2214.0556</td>\n",
       "      <td>1150.7775</td>\n",
       "      <td>1.3772</td>\n",
       "      <td>100</td>\n",
       "      <td>102.9389</td>\n",
       "      <td>0.1205</td>\n",
       "      <td>1.4978</td>\n",
       "      <td>...</td>\n",
       "      <td>0.0031</td>\n",
       "      <td>83.1192</td>\n",
       "      <td>0.5038</td>\n",
       "      <td>0.0188</td>\n",
       "      <td>0.0040</td>\n",
       "      <td>3.7356</td>\n",
       "      <td>0.0118</td>\n",
       "      <td>0.0098</td>\n",
       "      <td>0.0031</td>\n",
       "      <td>83.1192</td>\n",
       "    </tr>\n",
       "    <tr>\n",
       "      <th>3</th>\n",
       "      <td>Wafer-203</td>\n",
       "      <td>2948.42</td>\n",
       "      <td>2444.55</td>\n",
       "      <td>2204.9223</td>\n",
       "      <td>1787.6757</td>\n",
       "      <td>1.5138</td>\n",
       "      <td>100</td>\n",
       "      <td>100.4322</td>\n",
       "      <td>0.1216</td>\n",
       "      <td>1.3906</td>\n",
       "      <td>...</td>\n",
       "      <td>0.0030</td>\n",
       "      <td>272.3477</td>\n",
       "      <td>0.5006</td>\n",
       "      <td>0.0164</td>\n",
       "      <td>0.0042</td>\n",
       "      <td>3.2771</td>\n",
       "      <td>-0.0034</td>\n",
       "      <td>0.0093</td>\n",
       "      <td>0.0030</td>\n",
       "      <td>272.3477</td>\n",
       "    </tr>\n",
       "    <tr>\n",
       "      <th>4</th>\n",
       "      <td>Wafer-204</td>\n",
       "      <td>2958.39</td>\n",
       "      <td>2478.99</td>\n",
       "      <td>2231.9556</td>\n",
       "      <td>1185.0959</td>\n",
       "      <td>1.0208</td>\n",
       "      <td>100</td>\n",
       "      <td>102.5344</td>\n",
       "      <td>0.1192</td>\n",
       "      <td>1.4881</td>\n",
       "      <td>...</td>\n",
       "      <td>NaN</td>\n",
       "      <td>NaN</td>\n",
       "      <td>0.5024</td>\n",
       "      <td>0.0151</td>\n",
       "      <td>0.0038</td>\n",
       "      <td>3.0084</td>\n",
       "      <td>-0.0034</td>\n",
       "      <td>0.0093</td>\n",
       "      <td>0.0030</td>\n",
       "      <td>272.3477</td>\n",
       "    </tr>\n",
       "    <tr>\n",
       "      <th>...</th>\n",
       "      <td>...</td>\n",
       "      <td>...</td>\n",
       "      <td>...</td>\n",
       "      <td>...</td>\n",
       "      <td>...</td>\n",
       "      <td>...</td>\n",
       "      <td>...</td>\n",
       "      <td>...</td>\n",
       "      <td>...</td>\n",
       "      <td>...</td>\n",
       "      <td>...</td>\n",
       "      <td>...</td>\n",
       "      <td>...</td>\n",
       "      <td>...</td>\n",
       "      <td>...</td>\n",
       "      <td>...</td>\n",
       "      <td>...</td>\n",
       "      <td>...</td>\n",
       "      <td>...</td>\n",
       "      <td>...</td>\n",
       "      <td>...</td>\n",
       "    </tr>\n",
       "    <tr>\n",
       "      <th>95</th>\n",
       "      <td>Wafer-295</td>\n",
       "      <td>2787.49</td>\n",
       "      <td>2584.15</td>\n",
       "      <td>2224.0000</td>\n",
       "      <td>1510.0797</td>\n",
       "      <td>1.5611</td>\n",
       "      <td>100</td>\n",
       "      <td>99.8300</td>\n",
       "      <td>0.1199</td>\n",
       "      <td>1.4010</td>\n",
       "      <td>...</td>\n",
       "      <td>NaN</td>\n",
       "      <td>NaN</td>\n",
       "      <td>0.5021</td>\n",
       "      <td>0.0092</td>\n",
       "      <td>0.0027</td>\n",
       "      <td>1.8377</td>\n",
       "      <td>0.0107</td>\n",
       "      <td>0.0071</td>\n",
       "      <td>0.0025</td>\n",
       "      <td>66.2997</td>\n",
       "    </tr>\n",
       "    <tr>\n",
       "      <th>96</th>\n",
       "      <td>Wafer-296</td>\n",
       "      <td>3039.66</td>\n",
       "      <td>2393.78</td>\n",
       "      <td>2194.2889</td>\n",
       "      <td>1631.5293</td>\n",
       "      <td>1.5119</td>\n",
       "      <td>100</td>\n",
       "      <td>99.6367</td>\n",
       "      <td>0.1222</td>\n",
       "      <td>1.5176</td>\n",
       "      <td>...</td>\n",
       "      <td>NaN</td>\n",
       "      <td>NaN</td>\n",
       "      <td>0.4932</td>\n",
       "      <td>0.0106</td>\n",
       "      <td>0.0027</td>\n",
       "      <td>2.1493</td>\n",
       "      <td>0.0107</td>\n",
       "      <td>0.0071</td>\n",
       "      <td>0.0025</td>\n",
       "      <td>66.2997</td>\n",
       "    </tr>\n",
       "    <tr>\n",
       "      <th>97</th>\n",
       "      <td>Wafer-297</td>\n",
       "      <td>2973.53</td>\n",
       "      <td>2499.72</td>\n",
       "      <td>2177.3222</td>\n",
       "      <td>1089.3655</td>\n",
       "      <td>1.3101</td>\n",
       "      <td>100</td>\n",
       "      <td>101.1478</td>\n",
       "      <td>0.1216</td>\n",
       "      <td>1.3955</td>\n",
       "      <td>...</td>\n",
       "      <td>0.0043</td>\n",
       "      <td>74.0589</td>\n",
       "      <td>0.5013</td>\n",
       "      <td>0.0155</td>\n",
       "      <td>0.0036</td>\n",
       "      <td>3.0955</td>\n",
       "      <td>0.0210</td>\n",
       "      <td>0.0156</td>\n",
       "      <td>0.0043</td>\n",
       "      <td>74.0589</td>\n",
       "    </tr>\n",
       "    <tr>\n",
       "      <th>98</th>\n",
       "      <td>Wafer-298</td>\n",
       "      <td>2954.36</td>\n",
       "      <td>2559.27</td>\n",
       "      <td>2238.5444</td>\n",
       "      <td>1659.1424</td>\n",
       "      <td>0.9010</td>\n",
       "      <td>100</td>\n",
       "      <td>99.3100</td>\n",
       "      <td>0.1204</td>\n",
       "      <td>1.4086</td>\n",
       "      <td>...</td>\n",
       "      <td>0.0034</td>\n",
       "      <td>46.9253</td>\n",
       "      <td>0.4972</td>\n",
       "      <td>0.0260</td>\n",
       "      <td>0.0056</td>\n",
       "      <td>5.2369</td>\n",
       "      <td>0.0226</td>\n",
       "      <td>0.0106</td>\n",
       "      <td>0.0034</td>\n",
       "      <td>46.9253</td>\n",
       "    </tr>\n",
       "    <tr>\n",
       "      <th>99</th>\n",
       "      <td>Wafer-299</td>\n",
       "      <td>2894.04</td>\n",
       "      <td>2490.06</td>\n",
       "      <td>2207.0444</td>\n",
       "      <td>1330.6718</td>\n",
       "      <td>1.3076</td>\n",
       "      <td>100</td>\n",
       "      <td>101.6778</td>\n",
       "      <td>0.1216</td>\n",
       "      <td>1.5546</td>\n",
       "      <td>...</td>\n",
       "      <td>NaN</td>\n",
       "      <td>NaN</td>\n",
       "      <td>0.4963</td>\n",
       "      <td>0.0208</td>\n",
       "      <td>0.0050</td>\n",
       "      <td>4.1959</td>\n",
       "      <td>0.0226</td>\n",
       "      <td>0.0106</td>\n",
       "      <td>0.0034</td>\n",
       "      <td>46.9253</td>\n",
       "    </tr>\n",
       "  </tbody>\n",
       "</table>\n",
       "<p>100 rows × 591 columns</p>\n",
       "</div>"
      ],
      "text/plain": [
       "   Unnamed: 0  Sensor-1  Sensor-2   Sensor-3   Sensor-4  Sensor-5  Sensor-6  \\\n",
       "0   Wafer-200   3006.22   2257.81  2185.9333  1659.6962    1.6290       100   \n",
       "1   Wafer-201   3088.73   2378.95  2185.9333  1659.6962    1.6290       100   \n",
       "2   Wafer-202   2940.65       NaN  2214.0556  1150.7775    1.3772       100   \n",
       "3   Wafer-203   2948.42   2444.55  2204.9223  1787.6757    1.5138       100   \n",
       "4   Wafer-204   2958.39   2478.99  2231.9556  1185.0959    1.0208       100   \n",
       "..        ...       ...       ...        ...        ...       ...       ...   \n",
       "95  Wafer-295   2787.49   2584.15  2224.0000  1510.0797    1.5611       100   \n",
       "96  Wafer-296   3039.66   2393.78  2194.2889  1631.5293    1.5119       100   \n",
       "97  Wafer-297   2973.53   2499.72  2177.3222  1089.3655    1.3101       100   \n",
       "98  Wafer-298   2954.36   2559.27  2238.5444  1659.1424    0.9010       100   \n",
       "99  Wafer-299   2894.04   2490.06  2207.0444  1330.6718    1.3076       100   \n",
       "\n",
       "    Sensor-7  Sensor-8  Sensor-9  ...  Sensor-581  Sensor-582  Sensor-583  \\\n",
       "0    98.6822    0.1227    1.4557  ...         NaN         NaN      0.4978   \n",
       "1    98.6822    0.1227    1.3731  ...         NaN         NaN      0.4990   \n",
       "2   102.9389    0.1205    1.4978  ...      0.0031     83.1192      0.5038   \n",
       "3   100.4322    0.1216    1.3906  ...      0.0030    272.3477      0.5006   \n",
       "4   102.5344    0.1192    1.4881  ...         NaN         NaN      0.5024   \n",
       "..       ...       ...       ...  ...         ...         ...         ...   \n",
       "95   99.8300    0.1199    1.4010  ...         NaN         NaN      0.5021   \n",
       "96   99.6367    0.1222    1.5176  ...         NaN         NaN      0.4932   \n",
       "97  101.1478    0.1216    1.3955  ...      0.0043     74.0589      0.5013   \n",
       "98   99.3100    0.1204    1.4086  ...      0.0034     46.9253      0.4972   \n",
       "99  101.6778    0.1216    1.5546  ...         NaN         NaN      0.4963   \n",
       "\n",
       "    Sensor-584  Sensor-585  Sensor-586  Sensor-587  Sensor-588  Sensor-589  \\\n",
       "0       0.0154      0.0038      3.0850      0.0131      0.0129      0.0052   \n",
       "1       0.0130      0.0030      2.6037      0.0131      0.0129      0.0052   \n",
       "2       0.0188      0.0040      3.7356      0.0118      0.0098      0.0031   \n",
       "3       0.0164      0.0042      3.2771     -0.0034      0.0093      0.0030   \n",
       "4       0.0151      0.0038      3.0084     -0.0034      0.0093      0.0030   \n",
       "..         ...         ...         ...         ...         ...         ...   \n",
       "95      0.0092      0.0027      1.8377      0.0107      0.0071      0.0025   \n",
       "96      0.0106      0.0027      2.1493      0.0107      0.0071      0.0025   \n",
       "97      0.0155      0.0036      3.0955      0.0210      0.0156      0.0043   \n",
       "98      0.0260      0.0056      5.2369      0.0226      0.0106      0.0034   \n",
       "99      0.0208      0.0050      4.1959      0.0226      0.0106      0.0034   \n",
       "\n",
       "    Sensor-590  \n",
       "0      98.1126  \n",
       "1      98.1126  \n",
       "2      83.1192  \n",
       "3     272.3477  \n",
       "4     272.3477  \n",
       "..         ...  \n",
       "95     66.2997  \n",
       "96     66.2997  \n",
       "97     74.0589  \n",
       "98     46.9253  \n",
       "99     46.9253  \n",
       "\n",
       "[100 rows x 591 columns]"
      ]
     },
     "execution_count": 90,
     "metadata": {},
     "output_type": "execute_result"
    }
   ],
   "source": [
    "df"
   ]
  },
  {
   "cell_type": "code",
   "execution_count": 92,
   "id": "b1154443",
   "metadata": {},
   "outputs": [
    {
     "data": {
      "text/plain": [
       "0     Wafer-200\n",
       "1     Wafer-201\n",
       "2     Wafer-202\n",
       "3     Wafer-203\n",
       "4     Wafer-204\n",
       "        ...    \n",
       "95    Wafer-295\n",
       "96    Wafer-296\n",
       "97    Wafer-297\n",
       "98    Wafer-298\n",
       "99    Wafer-299\n",
       "Name: Unnamed: 0, Length: 100, dtype: object"
      ]
     },
     "execution_count": 92,
     "metadata": {},
     "output_type": "execute_result"
    }
   ],
   "source": [
    "df['Unnamed: 0']"
   ]
  },
  {
   "cell_type": "code",
   "execution_count": 93,
   "id": "c802fee4",
   "metadata": {},
   "outputs": [
    {
     "data": {
      "text/plain": [
       "0     200\n",
       "1     201\n",
       "2     202\n",
       "3     203\n",
       "4     204\n",
       "     ... \n",
       "95    295\n",
       "96    296\n",
       "97    297\n",
       "98    298\n",
       "99    299\n",
       "Name: Unnamed: 0, Length: 100, dtype: object"
      ]
     },
     "execution_count": 93,
     "metadata": {},
     "output_type": "execute_result"
    }
   ],
   "source": [
    "df['Unnamed: 0'].str[6:]"
   ]
  },
  {
   "cell_type": "code",
   "execution_count": null,
   "id": "240393b2",
   "metadata": {},
   "outputs": [],
   "source": []
  }
 ],
 "metadata": {
  "kernelspec": {
   "display_name": "Python 3 (ipykernel)",
   "language": "python",
   "name": "python3"
  },
  "language_info": {
   "codemirror_mode": {
    "name": "ipython",
    "version": 3
   },
   "file_extension": ".py",
   "mimetype": "text/x-python",
   "name": "python",
   "nbconvert_exporter": "python",
   "pygments_lexer": "ipython3",
   "version": "3.9.12"
  }
 },
 "nbformat": 4,
 "nbformat_minor": 5
}
