{
 "cells": [
  {
   "cell_type": "code",
   "execution_count": 1,
   "id": "f5029162",
   "metadata": {},
   "outputs": [
    {
     "name": "stdout",
     "output_type": "stream",
     "text": [
      " Volume in drive C has no label.\n",
      " Volume Serial Number is FC31-0B0A\n",
      "\n",
      " Directory of C:\\Users\\user\\Desktop\\real_ml_projects\\Wafar_fault_detection\\waferFaultDetection\\code\\WaferFaultDetection_new\\notebook\n",
      "\n",
      "03/12/2023  08:36 AM    <DIR>          .\n",
      "03/12/2023  08:36 AM    <DIR>          ..\n",
      "03/12/2023  08:36 AM    <DIR>          .ipynb_checkpoints\n",
      "03/11/2023  06:48 PM            77,148 CORS,dashboard,cross_origin,datetime,data_validation.ipynb\n",
      "03/12/2023  08:34 AM                72 creating_csvfile.ipynb\n",
      "03/12/2023  08:31 AM            22,700 database_sqlite.ipynb\n",
      "03/12/2023  02:59 AM         1,386,820 dataToDb.ipynb\n",
      "03/12/2023  08:30 AM                 0 inputFile.csv\n",
      "03/11/2023  07:15 AM               120 my_dataframe.csv\n",
      "03/11/2023  10:58 PM             8,192 mydb.db\n",
      "03/11/2023  10:59 PM             4,616 mydb.db-journal\n",
      "03/11/2023  11:29 PM             8,192 mydb2.db\n",
      "03/12/2023  07:02 AM             8,192 mydb3.db\n",
      "03/12/2023  07:02 AM             4,616 mydb3.db-journal\n",
      "              11 File(s)      1,520,668 bytes\n",
      "               3 Dir(s)  35,706,884,096 bytes free\n"
     ]
    }
   ],
   "source": [
    "ls"
   ]
  },
  {
   "cell_type": "code",
   "execution_count": 2,
   "id": "9292615f",
   "metadata": {},
   "outputs": [],
   "source": [
    "import csv\n",
    "\n",
    "# Data to be written to the CSV file\n",
    "data = [\n",
    "    ['Name', 'Age', 'Gender'],\n",
    "    ['John', 25, 'Male'],\n",
    "    ['Jane', 30, 'Female'],\n",
    "    ['Bob', 40, 'Male']\n",
    "]\n",
    "\n",
    "# Open the CSV file in write mode\n",
    "with open('example.csv', 'w', newline='') as file:\n",
    "    # Create a CSV writer object\n",
    "    writer = csv.writer(file)\n",
    "    \n",
    "    # Write the data to the CSV file\n",
    "    writer.writerows(data)\n"
   ]
  },
  {
   "cell_type": "code",
   "execution_count": null,
   "id": "6429526a",
   "metadata": {},
   "outputs": [],
   "source": []
  }
 ],
 "metadata": {
  "kernelspec": {
   "display_name": "Python 3 (ipykernel)",
   "language": "python",
   "name": "python3"
  },
  "language_info": {
   "codemirror_mode": {
    "name": "ipython",
    "version": 3
   },
   "file_extension": ".py",
   "mimetype": "text/x-python",
   "name": "python",
   "nbconvert_exporter": "python",
   "pygments_lexer": "ipython3",
   "version": "3.9.12"
  }
 },
 "nbformat": 4,
 "nbformat_minor": 5
}
