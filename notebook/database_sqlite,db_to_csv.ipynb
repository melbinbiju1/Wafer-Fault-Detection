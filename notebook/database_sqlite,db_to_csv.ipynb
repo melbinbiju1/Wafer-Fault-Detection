{
 "cells": [
  {
   "cell_type": "code",
   "execution_count": 1,
   "id": "4d83e724",
   "metadata": {},
   "outputs": [
    {
     "name": "stdout",
     "output_type": "stream",
     "text": [
      " Volume in drive C has no label.\n",
      " Volume Serial Number is FC31-0B0A\n",
      "\n",
      " Directory of C:\\Users\\user\\Desktop\\real_ml_projects\\Wafar_fault_detection\\waferFaultDetection\\code\\WaferFaultDetection_new\\notebook\n",
      "\n",
      "03/11/2023  09:55 PM    <DIR>          .\n",
      "03/11/2023  09:55 PM    <DIR>          ..\n",
      "03/11/2023  09:55 PM    <DIR>          .ipynb_checkpoints\n",
      "03/11/2023  05:48 PM            77,148 CORS,dashboard,cross_origin,datetime,data_validation.ipynb\n",
      "03/11/2023  09:54 PM                72 database_sqlite.ipynb\n",
      "03/11/2023  06:15 AM               120 my_dataframe.csv\n",
      "               3 File(s)         77,340 bytes\n",
      "               3 Dir(s)  36,691,333,120 bytes free\n"
     ]
    }
   ],
   "source": [
    "ls"
   ]
  },
  {
   "cell_type": "code",
   "execution_count": null,
   "id": "3506bc76",
   "metadata": {},
   "outputs": [],
   "source": []
  },
  {
   "cell_type": "code",
   "execution_count": null,
   "id": "95cba910",
   "metadata": {},
   "outputs": [],
   "source": []
  },
  {
   "cell_type": "code",
   "execution_count": null,
   "id": "db637ea3",
   "metadata": {},
   "outputs": [],
   "source": []
  },
  {
   "cell_type": "code",
   "execution_count": 2,
   "id": "f47aabe5",
   "metadata": {},
   "outputs": [],
   "source": [
    "import sqlite3"
   ]
  },
  {
   "cell_type": "code",
   "execution_count": 57,
   "id": "4919d954",
   "metadata": {},
   "outputs": [],
   "source": [
    "db=sqlite3.connect('mydb.db') "
   ]
  },
  {
   "cell_type": "code",
   "execution_count": 4,
   "id": "3a58f335",
   "metadata": {},
   "outputs": [],
   "source": [
    "cursor=db.cursor()"
   ]
  },
  {
   "cell_type": "code",
   "execution_count": 5,
   "id": "598237b1",
   "metadata": {},
   "outputs": [
    {
     "data": {
      "text/plain": [
       "<sqlite3.Cursor at 0x1b7631963b0>"
      ]
     },
     "execution_count": 5,
     "metadata": {},
     "output_type": "execute_result"
    }
   ],
   "source": [
    "cursor.execute('create table student(name text,batchid int,marks real)')"
   ]
  },
  {
   "cell_type": "code",
   "execution_count": 6,
   "id": "fe9e3ab5",
   "metadata": {},
   "outputs": [
    {
     "data": {
      "text/plain": [
       "<sqlite3.Cursor at 0x1b7631963b0>"
      ]
     },
     "execution_count": 6,
     "metadata": {},
     "output_type": "execute_result"
    }
   ],
   "source": [
    "cursor.execute('insert into student values(\"midhun\",6227,524)')\n",
    "cursor.execute('insert into student values(\"maria\",5249,729.5)')\n",
    "cursor.execute('insert into student values(\"ram\",4524,841)')"
   ]
  },
  {
   "cell_type": "code",
   "execution_count": 22,
   "id": "b72d2b40",
   "metadata": {},
   "outputs": [
    {
     "data": {
      "text/plain": [
       "<sqlite3.Cursor at 0x1b7631963b0>"
      ]
     },
     "execution_count": 22,
     "metadata": {},
     "output_type": "execute_result"
    }
   ],
   "source": [
    "cursor.execute('select * from student')"
   ]
  },
  {
   "cell_type": "code",
   "execution_count": 23,
   "id": "9b60ec5d",
   "metadata": {},
   "outputs": [
    {
     "data": {
      "text/plain": [
       "('midhun', 6227, 524.0)"
      ]
     },
     "execution_count": 23,
     "metadata": {},
     "output_type": "execute_result"
    }
   ],
   "source": [
    "cursor.fetchone()"
   ]
  },
  {
   "cell_type": "code",
   "execution_count": 16,
   "id": "1a27c7b8",
   "metadata": {},
   "outputs": [
    {
     "data": {
      "text/plain": [
       "[('maria', 5249, 729.5), ('ram', 4524, 841.0)]"
      ]
     },
     "execution_count": 16,
     "metadata": {},
     "output_type": "execute_result"
    }
   ],
   "source": [
    "cursor.fetchall()"
   ]
  },
  {
   "cell_type": "code",
   "execution_count": null,
   "id": "7bdd9aa7",
   "metadata": {},
   "outputs": [],
   "source": []
  },
  {
   "cell_type": "code",
   "execution_count": null,
   "id": "b954ae9f",
   "metadata": {},
   "outputs": [],
   "source": []
  },
  {
   "cell_type": "code",
   "execution_count": 41,
   "id": "85f7f0ce",
   "metadata": {},
   "outputs": [
    {
     "data": {
      "text/plain": [
       "<sqlite3.Cursor at 0x1b7631963b0>"
      ]
     },
     "execution_count": 41,
     "metadata": {},
     "output_type": "execute_result"
    }
   ],
   "source": [
    "cursor.execute(\"SELECT count(name)  FROM sqlite_master WHERE type = 'table' AND name = 'student' \")"
   ]
  },
  {
   "cell_type": "code",
   "execution_count": 42,
   "id": "3ba5581a",
   "metadata": {},
   "outputs": [
    {
     "data": {
      "text/plain": [
       "(1,)"
      ]
     },
     "execution_count": 42,
     "metadata": {},
     "output_type": "execute_result"
    }
   ],
   "source": [
    "cursor.fetchone()"
   ]
  },
  {
   "cell_type": "code",
   "execution_count": 43,
   "id": "862f787c",
   "metadata": {},
   "outputs": [
    {
     "data": {
      "text/plain": [
       "<sqlite3.Cursor at 0x1b7631963b0>"
      ]
     },
     "execution_count": 43,
     "metadata": {},
     "output_type": "execute_result"
    }
   ],
   "source": [
    "cursor.execute(\"SELECT count(name)  FROM sqlite_master WHERE type = 'table' AND name = 'student' \")"
   ]
  },
  {
   "cell_type": "code",
   "execution_count": 44,
   "id": "1977741f",
   "metadata": {},
   "outputs": [
    {
     "data": {
      "text/plain": [
       "1"
      ]
     },
     "execution_count": 44,
     "metadata": {},
     "output_type": "execute_result"
    }
   ],
   "source": [
    "cursor.fetchone()[0]"
   ]
  },
  {
   "cell_type": "code",
   "execution_count": null,
   "id": "bbb56547",
   "metadata": {},
   "outputs": [],
   "source": []
  },
  {
   "cell_type": "code",
   "execution_count": 35,
   "id": "a9aa766e",
   "metadata": {},
   "outputs": [
    {
     "data": {
      "text/plain": [
       "<sqlite3.Cursor at 0x1b7631963b0>"
      ]
     },
     "execution_count": 35,
     "metadata": {},
     "output_type": "execute_result"
    }
   ],
   "source": [
    "cursor.execute(\"SELECT count(name)  FROM sqlite_master WHERE type = 'table' AND name = 'student' \")"
   ]
  },
  {
   "cell_type": "code",
   "execution_count": 36,
   "id": "ff27030a",
   "metadata": {},
   "outputs": [
    {
     "data": {
      "text/plain": [
       "[(1,)]"
      ]
     },
     "execution_count": 36,
     "metadata": {},
     "output_type": "execute_result"
    }
   ],
   "source": [
    "cursor.fetchall()"
   ]
  },
  {
   "cell_type": "code",
   "execution_count": 58,
   "id": "61dfa2a9",
   "metadata": {},
   "outputs": [],
   "source": [
    "db.commit()"
   ]
  },
  {
   "cell_type": "code",
   "execution_count": 59,
   "id": "98c6c668",
   "metadata": {},
   "outputs": [],
   "source": [
    "db.close()"
   ]
  },
  {
   "cell_type": "code",
   "execution_count": null,
   "id": "83ae8503",
   "metadata": {},
   "outputs": [],
   "source": []
  },
  {
   "cell_type": "code",
   "execution_count": null,
   "id": "362debe7",
   "metadata": {},
   "outputs": [],
   "source": []
  },
  {
   "cell_type": "code",
   "execution_count": null,
   "id": "d68450f4",
   "metadata": {},
   "outputs": [],
   "source": []
  },
  {
   "cell_type": "code",
   "execution_count": 45,
   "id": "4d48dd17",
   "metadata": {},
   "outputs": [],
   "source": [
    "db=sqlite3.connect('mydb2.db') "
   ]
  },
  {
   "cell_type": "code",
   "execution_count": 46,
   "id": "dfe9b5dd",
   "metadata": {},
   "outputs": [],
   "source": [
    "cursor=db.cursor()"
   ]
  },
  {
   "cell_type": "code",
   "execution_count": 47,
   "id": "14037f38",
   "metadata": {},
   "outputs": [
    {
     "data": {
      "text/plain": [
       "<sqlite3.Cursor at 0x1b764c74f80>"
      ]
     },
     "execution_count": 47,
     "metadata": {},
     "output_type": "execute_result"
    }
   ],
   "source": [
    "cursor.execute('create table student(name text,batchid int,marks real)')"
   ]
  },
  {
   "cell_type": "code",
   "execution_count": 48,
   "id": "03dba3f9",
   "metadata": {},
   "outputs": [
    {
     "data": {
      "text/plain": [
       "<sqlite3.Cursor at 0x1b764c74f80>"
      ]
     },
     "execution_count": 48,
     "metadata": {},
     "output_type": "execute_result"
    }
   ],
   "source": [
    "cursor.execute('insert into student values(\"midhun\",6227,524)')\n",
    "cursor.execute('insert into student values(\"maria\",5249,729.5)')"
   ]
  },
  {
   "cell_type": "code",
   "execution_count": 49,
   "id": "d9bfd8c7",
   "metadata": {},
   "outputs": [
    {
     "data": {
      "text/plain": [
       "<sqlite3.Cursor at 0x1b764c74f80>"
      ]
     },
     "execution_count": 49,
     "metadata": {},
     "output_type": "execute_result"
    }
   ],
   "source": [
    "cursor.execute('select * from student')"
   ]
  },
  {
   "cell_type": "code",
   "execution_count": 50,
   "id": "21e99313",
   "metadata": {},
   "outputs": [
    {
     "data": {
      "text/plain": [
       "[('midhun', 6227, 524.0), ('maria', 5249, 729.5)]"
      ]
     },
     "execution_count": 50,
     "metadata": {},
     "output_type": "execute_result"
    }
   ],
   "source": [
    "cursor.fetchall()"
   ]
  },
  {
   "cell_type": "code",
   "execution_count": null,
   "id": "a5272be5",
   "metadata": {},
   "outputs": [],
   "source": []
  },
  {
   "cell_type": "code",
   "execution_count": null,
   "id": "95e2999d",
   "metadata": {},
   "outputs": [],
   "source": []
  },
  {
   "cell_type": "code",
   "execution_count": 53,
   "id": "e9c27404",
   "metadata": {},
   "outputs": [
    {
     "data": {
      "text/plain": [
       "<sqlite3.Cursor at 0x1b764c74f80>"
      ]
     },
     "execution_count": 53,
     "metadata": {},
     "output_type": "execute_result"
    }
   ],
   "source": [
    "cursor.execute(\"SELECT count(name)  FROM sqlite_master WHERE type = 'table' AND name = 'student' \")"
   ]
  },
  {
   "cell_type": "code",
   "execution_count": 54,
   "id": "cd519054",
   "metadata": {},
   "outputs": [
    {
     "data": {
      "text/plain": [
       "[(1,)]"
      ]
     },
     "execution_count": 54,
     "metadata": {},
     "output_type": "execute_result"
    }
   ],
   "source": [
    "cursor.fetchall()"
   ]
  },
  {
   "cell_type": "code",
   "execution_count": 55,
   "id": "03af29a4",
   "metadata": {},
   "outputs": [],
   "source": [
    "db.commit()"
   ]
  },
  {
   "cell_type": "code",
   "execution_count": 56,
   "id": "57b9799c",
   "metadata": {},
   "outputs": [],
   "source": [
    "db.close()"
   ]
  },
  {
   "cell_type": "code",
   "execution_count": null,
   "id": "d70ca4af",
   "metadata": {},
   "outputs": [],
   "source": []
  },
  {
   "cell_type": "code",
   "execution_count": null,
   "id": "5bca30bc",
   "metadata": {},
   "outputs": [],
   "source": []
  },
  {
   "cell_type": "code",
   "execution_count": null,
   "id": "d50da172",
   "metadata": {},
   "outputs": [],
   "source": []
  },
  {
   "cell_type": "code",
   "execution_count": null,
   "id": "e907beb0",
   "metadata": {},
   "outputs": [],
   "source": []
  },
  {
   "cell_type": "code",
   "execution_count": null,
   "id": "d6d78b41",
   "metadata": {},
   "outputs": [],
   "source": [
    "import sqlite3\n",
    "\n",
    "try:\n",
    "    conn = sqlite3.connect(self.path+DatabaseName+'.db')\n",
    "    \n",
    "    # Perform database operations (e.g., insert, update, delete)\n",
    "\n",
    "    conn.commit() # commit the changes\n",
    "except:\n",
    "    conn.rollback() # rollback the changes if an error occurred\n",
    "finally:\n",
    "    conn.close() # close the connection\n"
   ]
  },
  {
   "cell_type": "code",
   "execution_count": null,
   "id": "106c097f",
   "metadata": {},
   "outputs": [],
   "source": []
  },
  {
   "cell_type": "code",
   "execution_count": null,
   "id": "84bd8989",
   "metadata": {},
   "outputs": [],
   "source": []
  },
  {
   "cell_type": "code",
   "execution_count": null,
   "id": "75a400d6",
   "metadata": {},
   "outputs": [],
   "source": []
  },
  {
   "cell_type": "code",
   "execution_count": null,
   "id": "d05cb2dd",
   "metadata": {},
   "outputs": [],
   "source": []
  },
  {
   "cell_type": "code",
   "execution_count": null,
   "id": "4d388406",
   "metadata": {},
   "outputs": [],
   "source": []
  },
  {
   "cell_type": "code",
   "execution_count": null,
   "id": "5b1a76a7",
   "metadata": {},
   "outputs": [],
   "source": []
  },
  {
   "cell_type": "code",
   "execution_count": null,
   "id": "4f96170f",
   "metadata": {},
   "outputs": [],
   "source": []
  },
  {
   "cell_type": "code",
   "execution_count": null,
   "id": "fc002855",
   "metadata": {},
   "outputs": [],
   "source": []
  },
  {
   "cell_type": "code",
   "execution_count": 70,
   "id": "61c5e6c3",
   "metadata": {},
   "outputs": [],
   "source": [
    "conn=sqlite3.connect('mydb3.db')  "
   ]
  },
  {
   "cell_type": "code",
   "execution_count": 71,
   "id": "94cf3046",
   "metadata": {},
   "outputs": [],
   "source": [
    "cursor=conn.cursor()"
   ]
  },
  {
   "cell_type": "code",
   "execution_count": 72,
   "id": "2a688edc",
   "metadata": {},
   "outputs": [
    {
     "data": {
      "text/plain": [
       "<sqlite3.Cursor at 0x1b764cff810>"
      ]
     },
     "execution_count": 72,
     "metadata": {},
     "output_type": "execute_result"
    }
   ],
   "source": [
    "cursor.execute('create table student1(name text,batchid int,marks real)')"
   ]
  },
  {
   "cell_type": "code",
   "execution_count": 73,
   "id": "40aaa820",
   "metadata": {},
   "outputs": [
    {
     "data": {
      "text/plain": [
       "<sqlite3.Cursor at 0x1b764cff810>"
      ]
     },
     "execution_count": 73,
     "metadata": {},
     "output_type": "execute_result"
    }
   ],
   "source": [
    "cursor.execute('insert into student1 values(\"midhun\",6227,524)')\n",
    "cursor.execute('insert into student1 values(\"maria\",5249,729.5)')\n",
    "cursor.execute('insert into student1 values(\"ram\",4524,841)')"
   ]
  },
  {
   "cell_type": "code",
   "execution_count": 98,
   "id": "917ece9d",
   "metadata": {},
   "outputs": [
    {
     "data": {
      "text/plain": [
       "<sqlite3.Cursor at 0x1b764cff810>"
      ]
     },
     "execution_count": 98,
     "metadata": {},
     "output_type": "execute_result"
    }
   ],
   "source": [
    "cursor.execute(\"select * from student1\")"
   ]
  },
  {
   "cell_type": "code",
   "execution_count": 82,
   "id": "9dee7b02",
   "metadata": {},
   "outputs": [
    {
     "data": {
      "text/plain": [
       "[('midhun', 6227, 524.0), ('maria', 5249, 729.5), ('ram', 4524, 841.0)]"
      ]
     },
     "execution_count": 82,
     "metadata": {},
     "output_type": "execute_result"
    }
   ],
   "source": [
    "cursor.fetchall()"
   ]
  },
  {
   "cell_type": "code",
   "execution_count": 99,
   "id": "63fddaa0",
   "metadata": {},
   "outputs": [
    {
     "data": {
      "text/plain": [
       "<sqlite3.Cursor at 0x1b764cff810>"
      ]
     },
     "execution_count": 99,
     "metadata": {},
     "output_type": "execute_result"
    }
   ],
   "source": [
    "cursor.execute(\"select * from student1\")"
   ]
  },
  {
   "cell_type": "code",
   "execution_count": 100,
   "id": "65420bcf",
   "metadata": {},
   "outputs": [],
   "source": [
    "results = cursor.fetchall()"
   ]
  },
  {
   "cell_type": "code",
   "execution_count": 101,
   "id": "968cbede",
   "metadata": {},
   "outputs": [
    {
     "data": {
      "text/plain": [
       "[('midhun', 6227, 524.0), ('maria', 5249, 729.5), ('ram', 4524, 841.0)]"
      ]
     },
     "execution_count": 101,
     "metadata": {},
     "output_type": "execute_result"
    }
   ],
   "source": [
    "results"
   ]
  },
  {
   "cell_type": "code",
   "execution_count": 102,
   "id": "f89e8b80",
   "metadata": {},
   "outputs": [
    {
     "data": {
      "text/plain": [
       "(('name', None, None, None, None, None, None),\n",
       " ('batchid', None, None, None, None, None, None),\n",
       " ('marks', None, None, None, None, None, None))"
      ]
     },
     "execution_count": 102,
     "metadata": {},
     "output_type": "execute_result"
    }
   ],
   "source": [
    "cursor.description"
   ]
  },
  {
   "cell_type": "code",
   "execution_count": 78,
   "id": "2051fe88",
   "metadata": {},
   "outputs": [],
   "source": [
    "headers = [i[0] for i in cursor.description]"
   ]
  },
  {
   "cell_type": "code",
   "execution_count": 79,
   "id": "e9c70cf2",
   "metadata": {},
   "outputs": [
    {
     "data": {
      "text/plain": [
       "['name', 'batchid', 'marks']"
      ]
     },
     "execution_count": 79,
     "metadata": {},
     "output_type": "execute_result"
    }
   ],
   "source": [
    "headers"
   ]
  },
  {
   "cell_type": "code",
   "execution_count": 87,
   "id": "26d08d82",
   "metadata": {},
   "outputs": [],
   "source": [
    "import csv"
   ]
  },
  {
   "cell_type": "code",
   "execution_count": 113,
   "id": "fb415421",
   "metadata": {},
   "outputs": [],
   "source": [
    "path = r\"C:\\Users\\user\\Desktop\\real_ml_projects\\Wafar_fault_detection\\waferFaultDetection\\code\\WaferFaultDetection_new\\notebook\\inputFile2.csv\""
   ]
  },
  {
   "cell_type": "code",
   "execution_count": 114,
   "id": "ac50af4b",
   "metadata": {},
   "outputs": [],
   "source": [
    "csvFile = csv.writer(open(path, 'w', newline=''),delimiter=',', lineterminator='\\r\\n',quoting=csv.QUOTE_ALL, escapechar='\\\\')"
   ]
  },
  {
   "cell_type": "code",
   "execution_count": 115,
   "id": "7a5fe2b8",
   "metadata": {},
   "outputs": [
    {
     "data": {
      "text/plain": [
       "<_csv.writer at 0x1b764cb75e0>"
      ]
     },
     "execution_count": 115,
     "metadata": {},
     "output_type": "execute_result"
    }
   ],
   "source": [
    "csvFile"
   ]
  },
  {
   "cell_type": "code",
   "execution_count": 116,
   "id": "85c552e2",
   "metadata": {},
   "outputs": [
    {
     "data": {
      "text/plain": [
       "[('midhun', 6227, 524.0), ('maria', 5249, 729.5), ('ram', 4524, 841.0)]"
      ]
     },
     "execution_count": 116,
     "metadata": {},
     "output_type": "execute_result"
    }
   ],
   "source": [
    "results"
   ]
  },
  {
   "cell_type": "code",
   "execution_count": 117,
   "id": "205691c7",
   "metadata": {},
   "outputs": [
    {
     "data": {
      "text/plain": [
       "['name', 'batchid', 'marks']"
      ]
     },
     "execution_count": 117,
     "metadata": {},
     "output_type": "execute_result"
    }
   ],
   "source": [
    "headers"
   ]
  },
  {
   "cell_type": "code",
   "execution_count": 118,
   "id": "5c79e77a",
   "metadata": {},
   "outputs": [],
   "source": [
    "csvFile.writerow(headers)\n",
    "csvFile.writerows(results)"
   ]
  },
  {
   "cell_type": "code",
   "execution_count": null,
   "id": "ee1651c6",
   "metadata": {},
   "outputs": [],
   "source": [
    "# i think this way of writing csv file has some problem.Nothing in file inputFile.csv"
   ]
  },
  {
   "cell_type": "code",
   "execution_count": null,
   "id": "911830e0",
   "metadata": {},
   "outputs": [],
   "source": []
  },
  {
   "cell_type": "code",
   "execution_count": null,
   "id": "d849e529",
   "metadata": {},
   "outputs": [],
   "source": []
  },
  {
   "cell_type": "code",
   "execution_count": null,
   "id": "e40250d8",
   "metadata": {},
   "outputs": [],
   "source": []
  },
  {
   "cell_type": "code",
   "execution_count": null,
   "id": "4644d635",
   "metadata": {},
   "outputs": [],
   "source": []
  },
  {
   "cell_type": "markdown",
   "id": "f1d4b7fa",
   "metadata": {},
   "source": [
    "### differences between \\r, \\n, and \\r\\n"
   ]
  },
  {
   "cell_type": "raw",
   "id": "a1c0023c",
   "metadata": {},
   "source": [
    "Hello\\rworld\n",
    "\n",
    "output:\n",
    "world"
   ]
  },
  {
   "cell_type": "raw",
   "id": "669168f6",
   "metadata": {},
   "source": [
    "The \\r character tells the application to move the cursor back to the beginning of the line and overwrite the first five characters with \"world\"."
   ]
  },
  {
   "cell_type": "raw",
   "id": "b64a438f",
   "metadata": {},
   "source": [
    "Hello\\nworld\n",
    "\n",
    "output:\n",
    "Hello\n",
    "world"
   ]
  },
  {
   "cell_type": "raw",
   "id": "d389cae9",
   "metadata": {},
   "source": [
    "The \\n character tells the application to move the cursor to the beginning of the next line."
   ]
  },
  {
   "cell_type": "raw",
   "id": "9756e5aa",
   "metadata": {},
   "source": [
    "Hello\\r\\nworld\n",
    "\n",
    "output:\n",
    "Hello\n",
    "world"
   ]
  },
  {
   "cell_type": "raw",
   "id": "7b923be9",
   "metadata": {},
   "source": [
    "The \\r\\n sequence tells the application to move the cursor to the beginning of the next line and to advance to the next line."
   ]
  },
  {
   "cell_type": "code",
   "execution_count": null,
   "id": "5c99962e",
   "metadata": {},
   "outputs": [],
   "source": []
  },
  {
   "cell_type": "raw",
   "id": "1cfbd7b3",
   "metadata": {},
   "source": [
    "newline=''\n",
    "if we use this newline we see like this in textfile\n",
    "Name,Age,Gender\\r\\n\n",
    "Alice,25,Female\\r\\n\n",
    "Bob,30,Male\\r\\n\n",
    "Charlie,35,Male\\r\\n"
   ]
  },
  {
   "cell_type": "raw",
   "id": "b71dec9a",
   "metadata": {},
   "source": [
    "newline='\\n'\n",
    "if we use this newline we see like this in textfile\n",
    "Name,Age,Gender\\n\n",
    "Alice,25,Female\\n\n",
    "Bob,30,Male\\n\n",
    "Charlie,35,Male\\n"
   ]
  },
  {
   "cell_type": "raw",
   "id": "7d6b8297",
   "metadata": {},
   "source": [
    "On Unix-based systems (including macOS and Linux), the default line ending is just a line feed (\\n), while on Windows, the default line ending is '\\r\\n'. This means that if you write a file on Windows with newline='' (i.e., the default), the resulting file will have '\\r\\n' line endings. If you write the same file on a Unix-based system with newline='', the resulting file will have \\n line endings."
   ]
  },
  {
   "cell_type": "code",
   "execution_count": null,
   "id": "16d47e31",
   "metadata": {},
   "outputs": [],
   "source": []
  },
  {
   "cell_type": "code",
   "execution_count": null,
   "id": "6d033e67",
   "metadata": {},
   "outputs": [],
   "source": []
  },
  {
   "cell_type": "code",
   "execution_count": null,
   "id": "3e83a117",
   "metadata": {},
   "outputs": [],
   "source": []
  },
  {
   "cell_type": "code",
   "execution_count": null,
   "id": "3831027b",
   "metadata": {},
   "outputs": [],
   "source": []
  },
  {
   "cell_type": "raw",
   "id": "ec68d983",
   "metadata": {},
   "source": [
    "import csv\n",
    "\n",
    "# Data to be written to the CSV file\n",
    "data = [\n",
    "    ['Name', 'Age', 'Gender'],\n",
    "    ['John', 25, 'Male'],\n",
    "    ['Jane', 30, 'Female'],\n",
    "    ['Bob', 40, 'Male']\n",
    "]\n",
    "\n",
    "# Open the CSV file in write mode\n",
    "with open('example.csv', 'w', newline='') as file:\n",
    "    # Create a CSV writer object\n",
    "    writer = csv.writer(file)\n",
    "    \n",
    "    # Write the data to the CSV file\n",
    "    writer.writerows(data)\n"
   ]
  },
  {
   "cell_type": "code",
   "execution_count": null,
   "id": "ffd17e95",
   "metadata": {},
   "outputs": [],
   "source": []
  },
  {
   "cell_type": "code",
   "execution_count": null,
   "id": "595dee1a",
   "metadata": {},
   "outputs": [],
   "source": []
  },
  {
   "cell_type": "code",
   "execution_count": null,
   "id": "aa2d6e53",
   "metadata": {},
   "outputs": [],
   "source": []
  },
  {
   "cell_type": "code",
   "execution_count": null,
   "id": "61fc3c6a",
   "metadata": {},
   "outputs": [],
   "source": []
  },
  {
   "cell_type": "code",
   "execution_count": null,
   "id": "e6c7bf42",
   "metadata": {},
   "outputs": [],
   "source": []
  },
  {
   "cell_type": "code",
   "execution_count": null,
   "id": "64b00520",
   "metadata": {},
   "outputs": [],
   "source": []
  },
  {
   "cell_type": "code",
   "execution_count": null,
   "id": "5a3c47a9",
   "metadata": {},
   "outputs": [],
   "source": []
  },
  {
   "cell_type": "code",
   "execution_count": null,
   "id": "72349c58",
   "metadata": {},
   "outputs": [],
   "source": [
    "# it is working"
   ]
  },
  {
   "cell_type": "code",
   "execution_count": 119,
   "id": "3860b4db",
   "metadata": {},
   "outputs": [
    {
     "data": {
      "text/plain": [
       "['name', 'batchid', 'marks']"
      ]
     },
     "execution_count": 119,
     "metadata": {},
     "output_type": "execute_result"
    }
   ],
   "source": [
    "headers"
   ]
  },
  {
   "cell_type": "code",
   "execution_count": 120,
   "id": "b653d677",
   "metadata": {},
   "outputs": [
    {
     "data": {
      "text/plain": [
       "[('midhun', 6227, 524.0), ('maria', 5249, 729.5), ('ram', 4524, 841.0)]"
      ]
     },
     "execution_count": 120,
     "metadata": {},
     "output_type": "execute_result"
    }
   ],
   "source": [
    "results"
   ]
  },
  {
   "cell_type": "code",
   "execution_count": 121,
   "id": "f7e8e8b7",
   "metadata": {},
   "outputs": [],
   "source": [
    "path = r\"C:\\Users\\user\\Desktop\\real_ml_projects\\Wafar_fault_detection\\waferFaultDetection\\code\\WaferFaultDetection_new\\notebook\\inputFile3.csv\""
   ]
  },
  {
   "cell_type": "code",
   "execution_count": 122,
   "id": "2c70c624",
   "metadata": {},
   "outputs": [],
   "source": [
    "with open(path, 'w', newline='') as f:\n",
    "    csvFile = csv.writer(f,delimiter=',', lineterminator='\\r\\n',quoting=csv.QUOTE_ALL, escapechar='\\\\')\n",
    "    csvFile.writerow(headers)\n",
    "    csvFile.writerows(results)"
   ]
  },
  {
   "cell_type": "code",
   "execution_count": null,
   "id": "501c43eb",
   "metadata": {},
   "outputs": [],
   "source": []
  }
 ],
 "metadata": {
  "kernelspec": {
   "display_name": "Python 3 (ipykernel)",
   "language": "python",
   "name": "python3"
  },
  "language_info": {
   "codemirror_mode": {
    "name": "ipython",
    "version": 3
   },
   "file_extension": ".py",
   "mimetype": "text/x-python",
   "name": "python",
   "nbconvert_exporter": "python",
   "pygments_lexer": "ipython3",
   "version": "3.9.12"
  }
 },
 "nbformat": 4,
 "nbformat_minor": 5
}
